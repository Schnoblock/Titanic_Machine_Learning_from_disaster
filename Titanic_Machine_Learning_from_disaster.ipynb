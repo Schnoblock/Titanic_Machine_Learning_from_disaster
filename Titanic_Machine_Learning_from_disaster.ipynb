{
  "nbformat": 4,
  "nbformat_minor": 0,
  "metadata": {
    "colab": {
      "name": "Titanic_Machine_Learning_from_disaster.ipynb",
      "provenance": [],
      "collapsed_sections": [
        "mYRiKsnPsbxB"
      ]
    },
    "kernelspec": {
      "name": "python3",
      "display_name": "Python 3"
    }
  },
  "cells": [
    {
      "cell_type": "markdown",
      "metadata": {
        "id": "UeNonbrk4gOR",
        "colab_type": "text"
      },
      "source": [
        "Ce notebook est un essai, régulièrement mis à jour, sur le challenge le plus populaire du site **kaggle** : *Titanic: Machine Learning from Disaster*.\n",
        "\n",
        "C'est un très bon point de départ pour une analyse de données, et des premiers jeux d'apprentissage statistique et de machine learning.\n",
        "\n",
        "Ce notebook a été inspiré après lecture d'un certain nombre sur le sujet, en particulier ceux de Meg Risdal, Manav Sehgal et de Rifky Ahmad Saputra.\n",
        "\n",
        "Voici un résumé rapide des notions apprises tout au long de la réalisation de ce Notebook :\n",
        "\n",
        "- Manipulation approfondie de la bibliothèque `Pandas`\n",
        "- Utilisation des bibliothèques `seaborn` et `statsmodel`, bien pratiques pour des statistiques descriptives et des modèles basiques (linéaire, logistique)\n",
        "- Gérer les valeurs aberrantes (outlier) \n",
        "- One Hot Encoding (OHE) et dummy variables"
      ]
    },
    {
      "cell_type": "code",
      "metadata": {
        "id": "lsbjSKEBjkMV",
        "colab_type": "code",
        "colab": {
          "resources": {
            "http://localhost:8080/nbextensions/google.colab/files.js": {
              "data": "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",
              "ok": true,
              "headers": [
                [
                  "content-type",
                  "application/javascript"
                ]
              ],
              "status": 200,
              "status_text": ""
            }
          },
          "base_uri": "https://localhost:8080/",
          "height": 106
        },
        "outputId": "bd32e3ba-5460-41af-e39a-10c2ece124ee"
      },
      "source": [
        "from google.colab import files\n",
        "uploaded = files.upload()"
      ],
      "execution_count": null,
      "outputs": [
        {
          "output_type": "display_data",
          "data": {
            "text/html": [
              "\n",
              "     <input type=\"file\" id=\"files-bac6a629-ca97-4b0e-bdfb-a1a7ddabe76d\" name=\"files[]\" multiple disabled\n",
              "        style=\"border:none\" />\n",
              "     <output id=\"result-bac6a629-ca97-4b0e-bdfb-a1a7ddabe76d\">\n",
              "      Upload widget is only available when the cell has been executed in the\n",
              "      current browser session. Please rerun this cell to enable.\n",
              "      </output>\n",
              "      <script src=\"/nbextensions/google.colab/files.js\"></script> "
            ],
            "text/plain": [
              "<IPython.core.display.HTML object>"
            ]
          },
          "metadata": {
            "tags": []
          }
        },
        {
          "output_type": "stream",
          "text": [
            "Saving test.csv to test.csv\n",
            "Saving train.csv to train.csv\n"
          ],
          "name": "stdout"
        }
      ]
    },
    {
      "cell_type": "code",
      "metadata": {
        "id": "QU6VtJLUkwly",
        "colab_type": "code",
        "colab": {}
      },
      "source": [
        "train_data = pd.read_csv(\"train.csv\")\n",
        "test_data = pd.read_csv(\"test.csv\")\n",
        "full_data = [train_data, test_data]"
      ],
      "execution_count": 67,
      "outputs": []
    },
    {
      "cell_type": "code",
      "metadata": {
        "id": "MTSUHXWsaycB",
        "colab_type": "code",
        "colab": {}
      },
      "source": [
        "%%capture\n",
        "# Analyse de données\n",
        "import pandas as pd\n",
        "import numpy as np\n",
        "\n",
        "# Dataviz\n",
        "import seaborn as sns\n",
        "sns.distributions._has_statsmodels = False # To handle RuntimeError: Selected KDE bandwidth is 0.\n",
        "import matplotlib.pyplot as plt\n",
        "%pylab inline\n",
        "\n",
        "# Stats\n",
        "import statsmodels\n",
        "#import statsmodels.api as sm\n",
        "import statsmodels.formula.api as smf\n",
        "from scipy.stats import norm\n",
        "# from scipy.stats import poisson\n",
        "from scipy.stats import expon\n",
        "\n",
        "# sklearn\n",
        "from sklearn import metrics\n",
        "from sklearn.preprocessing import StandardScaler\n",
        "from sklearn.preprocessing import LabelEncoder\n",
        "from sklearn.preprocessing import OneHotEncoder\n",
        "from sklearn.neighbors import KNeighborsClassifier\n",
        "from sklearn.model_selection import cross_val_score\n",
        "from sklearn import svm\n",
        "from sklearn.neural_network import MLPClassifier"
      ],
      "execution_count": 68,
      "outputs": []
    },
    {
      "cell_type": "code",
      "metadata": {
        "id": "gYT9zw7PiV7t",
        "colab_type": "code",
        "colab": {
          "resources": {
            "http://localhost:8080/nbextensions/google.colab/files.js": {
              "data": "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",
              "ok": true,
              "headers": [
                [
                  "content-type",
                  "application/javascript"
                ]
              ],
              "status": 200,
              "status_text": ""
            }
          },
          "base_uri": "https://localhost:8080/",
          "height": 38
        },
        "outputId": "a7e32f71-290b-4262-b7fd-21657dd3a7d8"
      },
      "source": [
        "from google.colab import files\n",
        "uploaded = files.upload()"
      ],
      "execution_count": 69,
      "outputs": [
        {
          "output_type": "display_data",
          "data": {
            "text/html": [
              "\n",
              "     <input type=\"file\" id=\"files-c8d5b202-bdee-43c3-a956-add7ada078ea\" name=\"files[]\" multiple disabled\n",
              "        style=\"border:none\" />\n",
              "     <output id=\"result-c8d5b202-bdee-43c3-a956-add7ada078ea\">\n",
              "      Upload widget is only available when the cell has been executed in the\n",
              "      current browser session. Please rerun this cell to enable.\n",
              "      </output>\n",
              "      <script src=\"/nbextensions/google.colab/files.js\"></script> "
            ],
            "text/plain": [
              "<IPython.core.display.HTML object>"
            ]
          },
          "metadata": {
            "tags": []
          }
        }
      ]
    },
    {
      "cell_type": "markdown",
      "metadata": {
        "id": "9D7d1IU_xebK",
        "colab_type": "text"
      },
      "source": [
        "# Exploration des données"
      ]
    },
    {
      "cell_type": "code",
      "metadata": {
        "id": "X335Cm3WibpK",
        "colab_type": "code",
        "colab": {}
      },
      "source": [
        "train_data = pd.read_csv(\"train.csv\")\n",
        "test_data = pd.read_csv(\"test.csv\")"
      ],
      "execution_count": 70,
      "outputs": []
    },
    {
      "cell_type": "code",
      "metadata": {
        "id": "dX_lM8H0xZ7c",
        "colab_type": "code",
        "colab": {}
      },
      "source": [
        "# La fonction copie génère des messages d'alertes lors de la manipulation. On l'évite donc pour l'instant.\n",
        "\n",
        "# train = train_data.copy()\n",
        "# test = test_data.copy()\n",
        "\n",
        "train = pd.read_csv(\"train.csv\")\n",
        "test = pd.read_csv(\"test.csv\")"
      ],
      "execution_count": 71,
      "outputs": []
    },
    {
      "cell_type": "markdown",
      "metadata": {
        "id": "utkuQbP4LmUM",
        "colab_type": "text"
      },
      "source": [
        "On va tout d'abord regarder les données dans l'ensemble."
      ]
    },
    {
      "cell_type": "code",
      "metadata": {
        "id": "wC2BXFnQxgM3",
        "colab_type": "code",
        "colab": {
          "base_uri": "https://localhost:8080/",
          "height": 204
        },
        "outputId": "b2c7a97d-2c9e-473d-e679-51715109e9e7"
      },
      "source": [
        "train.head()"
      ],
      "execution_count": 72,
      "outputs": [
        {
          "output_type": "execute_result",
          "data": {
            "text/html": [
              "<div>\n",
              "<style scoped>\n",
              "    .dataframe tbody tr th:only-of-type {\n",
              "        vertical-align: middle;\n",
              "    }\n",
              "\n",
              "    .dataframe tbody tr th {\n",
              "        vertical-align: top;\n",
              "    }\n",
              "\n",
              "    .dataframe thead th {\n",
              "        text-align: right;\n",
              "    }\n",
              "</style>\n",
              "<table border=\"1\" class=\"dataframe\">\n",
              "  <thead>\n",
              "    <tr style=\"text-align: right;\">\n",
              "      <th></th>\n",
              "      <th>PassengerId</th>\n",
              "      <th>Survived</th>\n",
              "      <th>Pclass</th>\n",
              "      <th>Name</th>\n",
              "      <th>Sex</th>\n",
              "      <th>Age</th>\n",
              "      <th>SibSp</th>\n",
              "      <th>Parch</th>\n",
              "      <th>Ticket</th>\n",
              "      <th>Fare</th>\n",
              "      <th>Cabin</th>\n",
              "      <th>Embarked</th>\n",
              "    </tr>\n",
              "  </thead>\n",
              "  <tbody>\n",
              "    <tr>\n",
              "      <th>0</th>\n",
              "      <td>1</td>\n",
              "      <td>0</td>\n",
              "      <td>3</td>\n",
              "      <td>Braund, Mr. Owen Harris</td>\n",
              "      <td>male</td>\n",
              "      <td>22.0</td>\n",
              "      <td>1</td>\n",
              "      <td>0</td>\n",
              "      <td>A/5 21171</td>\n",
              "      <td>7.2500</td>\n",
              "      <td>NaN</td>\n",
              "      <td>S</td>\n",
              "    </tr>\n",
              "    <tr>\n",
              "      <th>1</th>\n",
              "      <td>2</td>\n",
              "      <td>1</td>\n",
              "      <td>1</td>\n",
              "      <td>Cumings, Mrs. John Bradley (Florence Briggs Th...</td>\n",
              "      <td>female</td>\n",
              "      <td>38.0</td>\n",
              "      <td>1</td>\n",
              "      <td>0</td>\n",
              "      <td>PC 17599</td>\n",
              "      <td>71.2833</td>\n",
              "      <td>C85</td>\n",
              "      <td>C</td>\n",
              "    </tr>\n",
              "    <tr>\n",
              "      <th>2</th>\n",
              "      <td>3</td>\n",
              "      <td>1</td>\n",
              "      <td>3</td>\n",
              "      <td>Heikkinen, Miss. Laina</td>\n",
              "      <td>female</td>\n",
              "      <td>26.0</td>\n",
              "      <td>0</td>\n",
              "      <td>0</td>\n",
              "      <td>STON/O2. 3101282</td>\n",
              "      <td>7.9250</td>\n",
              "      <td>NaN</td>\n",
              "      <td>S</td>\n",
              "    </tr>\n",
              "    <tr>\n",
              "      <th>3</th>\n",
              "      <td>4</td>\n",
              "      <td>1</td>\n",
              "      <td>1</td>\n",
              "      <td>Futrelle, Mrs. Jacques Heath (Lily May Peel)</td>\n",
              "      <td>female</td>\n",
              "      <td>35.0</td>\n",
              "      <td>1</td>\n",
              "      <td>0</td>\n",
              "      <td>113803</td>\n",
              "      <td>53.1000</td>\n",
              "      <td>C123</td>\n",
              "      <td>S</td>\n",
              "    </tr>\n",
              "    <tr>\n",
              "      <th>4</th>\n",
              "      <td>5</td>\n",
              "      <td>0</td>\n",
              "      <td>3</td>\n",
              "      <td>Allen, Mr. William Henry</td>\n",
              "      <td>male</td>\n",
              "      <td>35.0</td>\n",
              "      <td>0</td>\n",
              "      <td>0</td>\n",
              "      <td>373450</td>\n",
              "      <td>8.0500</td>\n",
              "      <td>NaN</td>\n",
              "      <td>S</td>\n",
              "    </tr>\n",
              "  </tbody>\n",
              "</table>\n",
              "</div>"
            ],
            "text/plain": [
              "   PassengerId  Survived  Pclass  ...     Fare Cabin  Embarked\n",
              "0            1         0       3  ...   7.2500   NaN         S\n",
              "1            2         1       1  ...  71.2833   C85         C\n",
              "2            3         1       3  ...   7.9250   NaN         S\n",
              "3            4         1       1  ...  53.1000  C123         S\n",
              "4            5         0       3  ...   8.0500   NaN         S\n",
              "\n",
              "[5 rows x 12 columns]"
            ]
          },
          "metadata": {
            "tags": []
          },
          "execution_count": 72
        }
      ]
    },
    {
      "cell_type": "code",
      "metadata": {
        "id": "5WFqW0RaxoBV",
        "colab_type": "code",
        "colab": {
          "base_uri": "https://localhost:8080/",
          "height": 204
        },
        "outputId": "24d47397-1791-4b4c-e344-4631f9228ad6"
      },
      "source": [
        "test.head()"
      ],
      "execution_count": 73,
      "outputs": [
        {
          "output_type": "execute_result",
          "data": {
            "text/html": [
              "<div>\n",
              "<style scoped>\n",
              "    .dataframe tbody tr th:only-of-type {\n",
              "        vertical-align: middle;\n",
              "    }\n",
              "\n",
              "    .dataframe tbody tr th {\n",
              "        vertical-align: top;\n",
              "    }\n",
              "\n",
              "    .dataframe thead th {\n",
              "        text-align: right;\n",
              "    }\n",
              "</style>\n",
              "<table border=\"1\" class=\"dataframe\">\n",
              "  <thead>\n",
              "    <tr style=\"text-align: right;\">\n",
              "      <th></th>\n",
              "      <th>PassengerId</th>\n",
              "      <th>Pclass</th>\n",
              "      <th>Name</th>\n",
              "      <th>Sex</th>\n",
              "      <th>Age</th>\n",
              "      <th>SibSp</th>\n",
              "      <th>Parch</th>\n",
              "      <th>Ticket</th>\n",
              "      <th>Fare</th>\n",
              "      <th>Cabin</th>\n",
              "      <th>Embarked</th>\n",
              "    </tr>\n",
              "  </thead>\n",
              "  <tbody>\n",
              "    <tr>\n",
              "      <th>0</th>\n",
              "      <td>892</td>\n",
              "      <td>3</td>\n",
              "      <td>Kelly, Mr. James</td>\n",
              "      <td>male</td>\n",
              "      <td>34.5</td>\n",
              "      <td>0</td>\n",
              "      <td>0</td>\n",
              "      <td>330911</td>\n",
              "      <td>7.8292</td>\n",
              "      <td>NaN</td>\n",
              "      <td>Q</td>\n",
              "    </tr>\n",
              "    <tr>\n",
              "      <th>1</th>\n",
              "      <td>893</td>\n",
              "      <td>3</td>\n",
              "      <td>Wilkes, Mrs. James (Ellen Needs)</td>\n",
              "      <td>female</td>\n",
              "      <td>47.0</td>\n",
              "      <td>1</td>\n",
              "      <td>0</td>\n",
              "      <td>363272</td>\n",
              "      <td>7.0000</td>\n",
              "      <td>NaN</td>\n",
              "      <td>S</td>\n",
              "    </tr>\n",
              "    <tr>\n",
              "      <th>2</th>\n",
              "      <td>894</td>\n",
              "      <td>2</td>\n",
              "      <td>Myles, Mr. Thomas Francis</td>\n",
              "      <td>male</td>\n",
              "      <td>62.0</td>\n",
              "      <td>0</td>\n",
              "      <td>0</td>\n",
              "      <td>240276</td>\n",
              "      <td>9.6875</td>\n",
              "      <td>NaN</td>\n",
              "      <td>Q</td>\n",
              "    </tr>\n",
              "    <tr>\n",
              "      <th>3</th>\n",
              "      <td>895</td>\n",
              "      <td>3</td>\n",
              "      <td>Wirz, Mr. Albert</td>\n",
              "      <td>male</td>\n",
              "      <td>27.0</td>\n",
              "      <td>0</td>\n",
              "      <td>0</td>\n",
              "      <td>315154</td>\n",
              "      <td>8.6625</td>\n",
              "      <td>NaN</td>\n",
              "      <td>S</td>\n",
              "    </tr>\n",
              "    <tr>\n",
              "      <th>4</th>\n",
              "      <td>896</td>\n",
              "      <td>3</td>\n",
              "      <td>Hirvonen, Mrs. Alexander (Helga E Lindqvist)</td>\n",
              "      <td>female</td>\n",
              "      <td>22.0</td>\n",
              "      <td>1</td>\n",
              "      <td>1</td>\n",
              "      <td>3101298</td>\n",
              "      <td>12.2875</td>\n",
              "      <td>NaN</td>\n",
              "      <td>S</td>\n",
              "    </tr>\n",
              "  </tbody>\n",
              "</table>\n",
              "</div>"
            ],
            "text/plain": [
              "   PassengerId  Pclass  ... Cabin Embarked\n",
              "0          892       3  ...   NaN        Q\n",
              "1          893       3  ...   NaN        S\n",
              "2          894       2  ...   NaN        Q\n",
              "3          895       3  ...   NaN        S\n",
              "4          896       3  ...   NaN        S\n",
              "\n",
              "[5 rows x 11 columns]"
            ]
          },
          "metadata": {
            "tags": []
          },
          "execution_count": 73
        }
      ]
    },
    {
      "cell_type": "markdown",
      "metadata": {
        "id": "it-efYpsLsdI",
        "colab_type": "text"
      },
      "source": [
        "On dispose donc de 12 variables :\n",
        "\n",
        "\n",
        "1.   `PassengerId` : le numéro d'identification des passagers, jouant ici le rôle de clé primaire dans la base de données;\n",
        "2.   `Survived` : ue variable binaire, qui nous dit si $1$, le passager a survécu, $0$ sinon;\n",
        "3.   `Pclass` : la classe du passager (première, seconde, ou troisième);\n",
        "4.   `Name` : le nom du passager, avec son titre;\n",
        "5.   `Sex` : le genre du passager `male`ou `female`;\n",
        "6.   `Age` : l'age du passager;\n",
        "7.   `SibSp` : le nombre de \"Siblings\" que le passager possède à bord (frères, soeurs, cousins, épouse, époux, etc...);\n",
        "8.   `Parch` : le nombre d'enfants pour les parents ou inversement (parents pour les enfants), à bord.\n",
        "9.   `Ticket` : le numéro de ticket du passager, ce champ comporte parfois des lettres, parfois des chiffres, parfois les deux;\n",
        "10.  `Fare` : le prix payé par le passager;\n",
        "11.  `Cabin` : la cabine dans laquelle se trouvait le passager,\n",
        "12.  `Embarked` : une lettre qui nous dit où le passager à embarqué.\n",
        "\n",
        "On peut déjà supposer que `PassengerId` ne nous sera pas utile, et que certaines données telles que `Cabin` ou `Ticket` joueront un rôle minime dans la modélisation, si utilisées de manières brutes.\n",
        "On peut aussi faire les suppositions classiques qui nous viennent d'à prioris (le film par exemple) et qu'on vérifiera par la suite, telles que :\n",
        "\n",
        "\n",
        "*   les passagers ont une chance réduite de survivre plus leur classe est basse;\n",
        "*   les femmes et les enfants ont plus de chance de survivre (fameux \"les femmes et les enfants d'abord\");\n",
        "*   les passagers les plus jeunes ont plus de chance de survivre.\n"
      ]
    },
    {
      "cell_type": "code",
      "metadata": {
        "id": "86vbM5FMxqac",
        "colab_type": "code",
        "colab": {
          "base_uri": "https://localhost:8080/",
          "height": 714
        },
        "outputId": "587d0695-9462-4c2e-f5d2-eaa87a0583ea"
      },
      "source": [
        "print(train.info())\n",
        "print('\\n')\n",
        "print(test.info())"
      ],
      "execution_count": 74,
      "outputs": [
        {
          "output_type": "stream",
          "text": [
            "<class 'pandas.core.frame.DataFrame'>\n",
            "RangeIndex: 891 entries, 0 to 890\n",
            "Data columns (total 12 columns):\n",
            " #   Column       Non-Null Count  Dtype  \n",
            "---  ------       --------------  -----  \n",
            " 0   PassengerId  891 non-null    int64  \n",
            " 1   Survived     891 non-null    int64  \n",
            " 2   Pclass       891 non-null    int64  \n",
            " 3   Name         891 non-null    object \n",
            " 4   Sex          891 non-null    object \n",
            " 5   Age          714 non-null    float64\n",
            " 6   SibSp        891 non-null    int64  \n",
            " 7   Parch        891 non-null    int64  \n",
            " 8   Ticket       891 non-null    object \n",
            " 9   Fare         891 non-null    float64\n",
            " 10  Cabin        204 non-null    object \n",
            " 11  Embarked     889 non-null    object \n",
            "dtypes: float64(2), int64(5), object(5)\n",
            "memory usage: 83.7+ KB\n",
            "None\n",
            "\n",
            "\n",
            "<class 'pandas.core.frame.DataFrame'>\n",
            "RangeIndex: 418 entries, 0 to 417\n",
            "Data columns (total 11 columns):\n",
            " #   Column       Non-Null Count  Dtype  \n",
            "---  ------       --------------  -----  \n",
            " 0   PassengerId  418 non-null    int64  \n",
            " 1   Pclass       418 non-null    int64  \n",
            " 2   Name         418 non-null    object \n",
            " 3   Sex          418 non-null    object \n",
            " 4   Age          332 non-null    float64\n",
            " 5   SibSp        418 non-null    int64  \n",
            " 6   Parch        418 non-null    int64  \n",
            " 7   Ticket       418 non-null    object \n",
            " 8   Fare         417 non-null    float64\n",
            " 9   Cabin        91 non-null     object \n",
            " 10  Embarked     418 non-null    object \n",
            "dtypes: float64(2), int64(4), object(5)\n",
            "memory usage: 36.0+ KB\n",
            "None\n"
          ],
          "name": "stdout"
        }
      ]
    },
    {
      "cell_type": "markdown",
      "metadata": {
        "id": "UPzWqI1UKMIW",
        "colab_type": "text"
      },
      "source": [
        "On constate tout d'abord que les variables `Age`, `Cabin` et `Embarked` ne sont pas complètes, ainsi que `Fare`à qui il manque une ligne dans la base de test. Nous sommes en présence d'un data set assez petit et que l'on doit exploiter au maximum (c'est tout de même un challenge, évalué sur la perfomance du modèle de prédiction, toute donnée est bonne à prendre).\n",
        "\n",
        "On va donc se proposer de \"remplir\" de différentes manières le data set. Avant d'essayer d'en extraire le maximum d'informations possibles.\n",
        "\n",
        "Mais on va en premier lieu parcourir un peu les données, et regarder des statistiques purement descriptives sur la base, pour avoir une idée de la pertinence de certaines données, ainsi que des pistes qu'on pourrait utiliser plus tard :"
      ]
    },
    {
      "cell_type": "code",
      "metadata": {
        "id": "1l3OzXdKKLbd",
        "colab_type": "code",
        "colab": {
          "base_uri": "https://localhost:8080/",
          "height": 297
        },
        "outputId": "06b9f231-c069-439d-a815-f4e0da6e0bb5"
      },
      "source": [
        "# Résumé des valeurs quantitatives\n",
        "\n",
        "train.describe()"
      ],
      "execution_count": 75,
      "outputs": [
        {
          "output_type": "execute_result",
          "data": {
            "text/html": [
              "<div>\n",
              "<style scoped>\n",
              "    .dataframe tbody tr th:only-of-type {\n",
              "        vertical-align: middle;\n",
              "    }\n",
              "\n",
              "    .dataframe tbody tr th {\n",
              "        vertical-align: top;\n",
              "    }\n",
              "\n",
              "    .dataframe thead th {\n",
              "        text-align: right;\n",
              "    }\n",
              "</style>\n",
              "<table border=\"1\" class=\"dataframe\">\n",
              "  <thead>\n",
              "    <tr style=\"text-align: right;\">\n",
              "      <th></th>\n",
              "      <th>PassengerId</th>\n",
              "      <th>Survived</th>\n",
              "      <th>Pclass</th>\n",
              "      <th>Age</th>\n",
              "      <th>SibSp</th>\n",
              "      <th>Parch</th>\n",
              "      <th>Fare</th>\n",
              "    </tr>\n",
              "  </thead>\n",
              "  <tbody>\n",
              "    <tr>\n",
              "      <th>count</th>\n",
              "      <td>891.000000</td>\n",
              "      <td>891.000000</td>\n",
              "      <td>891.000000</td>\n",
              "      <td>714.000000</td>\n",
              "      <td>891.000000</td>\n",
              "      <td>891.000000</td>\n",
              "      <td>891.000000</td>\n",
              "    </tr>\n",
              "    <tr>\n",
              "      <th>mean</th>\n",
              "      <td>446.000000</td>\n",
              "      <td>0.383838</td>\n",
              "      <td>2.308642</td>\n",
              "      <td>29.699118</td>\n",
              "      <td>0.523008</td>\n",
              "      <td>0.381594</td>\n",
              "      <td>32.204208</td>\n",
              "    </tr>\n",
              "    <tr>\n",
              "      <th>std</th>\n",
              "      <td>257.353842</td>\n",
              "      <td>0.486592</td>\n",
              "      <td>0.836071</td>\n",
              "      <td>14.526497</td>\n",
              "      <td>1.102743</td>\n",
              "      <td>0.806057</td>\n",
              "      <td>49.693429</td>\n",
              "    </tr>\n",
              "    <tr>\n",
              "      <th>min</th>\n",
              "      <td>1.000000</td>\n",
              "      <td>0.000000</td>\n",
              "      <td>1.000000</td>\n",
              "      <td>0.420000</td>\n",
              "      <td>0.000000</td>\n",
              "      <td>0.000000</td>\n",
              "      <td>0.000000</td>\n",
              "    </tr>\n",
              "    <tr>\n",
              "      <th>25%</th>\n",
              "      <td>223.500000</td>\n",
              "      <td>0.000000</td>\n",
              "      <td>2.000000</td>\n",
              "      <td>20.125000</td>\n",
              "      <td>0.000000</td>\n",
              "      <td>0.000000</td>\n",
              "      <td>7.910400</td>\n",
              "    </tr>\n",
              "    <tr>\n",
              "      <th>50%</th>\n",
              "      <td>446.000000</td>\n",
              "      <td>0.000000</td>\n",
              "      <td>3.000000</td>\n",
              "      <td>28.000000</td>\n",
              "      <td>0.000000</td>\n",
              "      <td>0.000000</td>\n",
              "      <td>14.454200</td>\n",
              "    </tr>\n",
              "    <tr>\n",
              "      <th>75%</th>\n",
              "      <td>668.500000</td>\n",
              "      <td>1.000000</td>\n",
              "      <td>3.000000</td>\n",
              "      <td>38.000000</td>\n",
              "      <td>1.000000</td>\n",
              "      <td>0.000000</td>\n",
              "      <td>31.000000</td>\n",
              "    </tr>\n",
              "    <tr>\n",
              "      <th>max</th>\n",
              "      <td>891.000000</td>\n",
              "      <td>1.000000</td>\n",
              "      <td>3.000000</td>\n",
              "      <td>80.000000</td>\n",
              "      <td>8.000000</td>\n",
              "      <td>6.000000</td>\n",
              "      <td>512.329200</td>\n",
              "    </tr>\n",
              "  </tbody>\n",
              "</table>\n",
              "</div>"
            ],
            "text/plain": [
              "       PassengerId    Survived      Pclass  ...       SibSp       Parch        Fare\n",
              "count   891.000000  891.000000  891.000000  ...  891.000000  891.000000  891.000000\n",
              "mean    446.000000    0.383838    2.308642  ...    0.523008    0.381594   32.204208\n",
              "std     257.353842    0.486592    0.836071  ...    1.102743    0.806057   49.693429\n",
              "min       1.000000    0.000000    1.000000  ...    0.000000    0.000000    0.000000\n",
              "25%     223.500000    0.000000    2.000000  ...    0.000000    0.000000    7.910400\n",
              "50%     446.000000    0.000000    3.000000  ...    0.000000    0.000000   14.454200\n",
              "75%     668.500000    1.000000    3.000000  ...    1.000000    0.000000   31.000000\n",
              "max     891.000000    1.000000    3.000000  ...    8.000000    6.000000  512.329200\n",
              "\n",
              "[8 rows x 7 columns]"
            ]
          },
          "metadata": {
            "tags": []
          },
          "execution_count": 75
        }
      ]
    },
    {
      "cell_type": "markdown",
      "metadata": {
        "id": "e4rXTxIdLLPx",
        "colab_type": "text"
      },
      "source": [
        "Choses à noter par rapport au tableau ci dessus :\n",
        "\n",
        "\n",
        "*   environ 38.4% des passagers (base de test) ont survécus;\n",
        "*   l'âge moyen est de 30 ans, l'âge médian est de 28 ans;\n",
        "*   Le prix moyen est de 32\\$, le prix médian est de 14\\$, plus de billet \"chers\", cela peut paraître normal;\n",
        "*   beaucoup de gens sont considérés comme \"seuls\", avec un nombre de siblings et de enfants/parents médian à 0."
      ]
    },
    {
      "cell_type": "code",
      "metadata": {
        "id": "nVQvs-cmKghj",
        "colab_type": "code",
        "colab": {
          "base_uri": "https://localhost:8080/",
          "height": 173
        },
        "outputId": "894cb760-b2df-4fb4-e777-a8ca0e971c80"
      },
      "source": [
        "# Résumé des valeurs qualitatives\n",
        "\n",
        "train_data.describe(include=['O'])"
      ],
      "execution_count": 76,
      "outputs": [
        {
          "output_type": "execute_result",
          "data": {
            "text/html": [
              "<div>\n",
              "<style scoped>\n",
              "    .dataframe tbody tr th:only-of-type {\n",
              "        vertical-align: middle;\n",
              "    }\n",
              "\n",
              "    .dataframe tbody tr th {\n",
              "        vertical-align: top;\n",
              "    }\n",
              "\n",
              "    .dataframe thead th {\n",
              "        text-align: right;\n",
              "    }\n",
              "</style>\n",
              "<table border=\"1\" class=\"dataframe\">\n",
              "  <thead>\n",
              "    <tr style=\"text-align: right;\">\n",
              "      <th></th>\n",
              "      <th>Name</th>\n",
              "      <th>Sex</th>\n",
              "      <th>Ticket</th>\n",
              "      <th>Cabin</th>\n",
              "      <th>Embarked</th>\n",
              "    </tr>\n",
              "  </thead>\n",
              "  <tbody>\n",
              "    <tr>\n",
              "      <th>count</th>\n",
              "      <td>891</td>\n",
              "      <td>891</td>\n",
              "      <td>891</td>\n",
              "      <td>204</td>\n",
              "      <td>889</td>\n",
              "    </tr>\n",
              "    <tr>\n",
              "      <th>unique</th>\n",
              "      <td>891</td>\n",
              "      <td>2</td>\n",
              "      <td>681</td>\n",
              "      <td>147</td>\n",
              "      <td>3</td>\n",
              "    </tr>\n",
              "    <tr>\n",
              "      <th>top</th>\n",
              "      <td>Mamee, Mr. Hanna</td>\n",
              "      <td>male</td>\n",
              "      <td>347082</td>\n",
              "      <td>G6</td>\n",
              "      <td>S</td>\n",
              "    </tr>\n",
              "    <tr>\n",
              "      <th>freq</th>\n",
              "      <td>1</td>\n",
              "      <td>577</td>\n",
              "      <td>7</td>\n",
              "      <td>4</td>\n",
              "      <td>644</td>\n",
              "    </tr>\n",
              "  </tbody>\n",
              "</table>\n",
              "</div>"
            ],
            "text/plain": [
              "                    Name   Sex  Ticket Cabin Embarked\n",
              "count                891   891     891   204      889\n",
              "unique               891     2     681   147        3\n",
              "top     Mamee, Mr. Hanna  male  347082    G6        S\n",
              "freq                   1   577       7     4      644"
            ]
          },
          "metadata": {
            "tags": []
          },
          "execution_count": 76
        }
      ]
    },
    {
      "cell_type": "markdown",
      "metadata": {
        "id": "US4G_6xdLdnI",
        "colab_type": "text"
      },
      "source": [
        "Choses à noter par rapport au tableau ci dessus :\n",
        "\n",
        "*   que des noms uniques;\n",
        "*   577/889 = 64.8% d'hommes à bord;\n",
        "*   peu de données sur les cabines, un certain nombre de doublons (non surprenant, plusieurs personnes peuvent partager la même cabine);\n",
        "*   quelques données manquantes sur les lieux d'embarquement."
      ]
    },
    {
      "cell_type": "markdown",
      "metadata": {
        "id": "6KxqgXkGxx2I",
        "colab_type": "text"
      },
      "source": [
        "# Statistiques descriptives et régression linéaire (rapide)"
      ]
    },
    {
      "cell_type": "markdown",
      "metadata": {
        "id": "a6gfGAbsWcQI",
        "colab_type": "text"
      },
      "source": [
        "Avant d'effectuer des statistiques descriptives, on effectue rapidement une manipulation que l'on pourra juger plus ou moins utile dans le but de rendre un minimum lisible la colone `Cabin`. On abanonne pour l'instant la colone `Ticket`. On ne gardera donc que la lettre (et pas le numéro) donnant donc une indication sur le pont auquel se trouvait le passager."
      ]
    },
    {
      "cell_type": "code",
      "metadata": {
        "id": "OTs_x6hFzocu",
        "colab_type": "code",
        "colab": {}
      },
      "source": [
        "# On récupère uniquement le premier caractère de la colonne Cabin\n",
        "\n",
        "train['Cabin'] = train['Cabin'].str.get(0)\n",
        "test['Cabin'] = test['Cabin'].str.get(0)"
      ],
      "execution_count": 77,
      "outputs": []
    },
    {
      "cell_type": "markdown",
      "metadata": {
        "id": "DunKk9pAQAqR",
        "colab_type": "text"
      },
      "source": [
        "## Statistiques descriptives"
      ]
    },
    {
      "cell_type": "markdown",
      "metadata": {
        "id": "vmQ-uEUSTRtu",
        "colab_type": "text"
      },
      "source": [
        "Le travail sur les statistiques descriptives reste à améliorer, il fera l'objet d'une future modification."
      ]
    },
    {
      "cell_type": "markdown",
      "metadata": {
        "id": "QPmINIlkV69y",
        "colab_type": "text"
      },
      "source": [
        "On va maintenant, pour des questions de manipulations avec la bibliothèque `seaborn` séparer le training set en deux parties, les valeurs numériques et les valeurs catégoriques."
      ]
    },
    {
      "cell_type": "code",
      "metadata": {
        "id": "e2yJx71hznt6",
        "colab_type": "code",
        "colab": {}
      },
      "source": [
        "# On sépar le dataset en deux parties : les valeurs numériques, et les valeurs texte\n",
        "num_data = train[['Age', 'SibSp', 'Parch', 'Fare']]\n",
        "cat_data = train[['Survived', 'Pclass', 'Sex', 'Cabin', 'Embarked']]"
      ],
      "execution_count": 78,
      "outputs": []
    },
    {
      "cell_type": "markdown",
      "metadata": {
        "id": "uA6vj4K3NZfX",
        "colab_type": "text"
      },
      "source": [
        "La suite se passe en trois étapes (choisies assez arbitrairement je le concède) :\n",
        "* On regarde les distributions et la corrélation des variables numériques\n",
        "* On regarde la distribution (\"proportions\" si l'on veut) des varaibles qualitatives\n",
        "* On commence à regarder certaines variables conditionnellement à la varaible à expliquer (le but est de \"jouer\" avec les variables, remarquer certaines choses, avoir une bonne impression du dataset, etc...)"
      ]
    },
    {
      "cell_type": "markdown",
      "metadata": {
        "id": "V5vS5HxtWzEI",
        "colab_type": "text"
      },
      "source": [
        "On utilise ici la fonction `distplot` de la bibliothèque `seaborn`, elle permet d'avoir un histogramme et une idée rapide de la distribution des données numériques (et mettre en 3 lignes une pseudo fonction de répartition ça fait toujours stylé), pour plus d'infos : https://seaborn.pydata.org/generated/seaborn.distplot.html"
      ]
    },
    {
      "cell_type": "code",
      "metadata": {
        "id": "uJqT3UF4xvRP",
        "colab_type": "code",
        "colab": {
          "base_uri": "https://localhost:8080/",
          "height": 679
        },
        "outputId": "23b4bc61-e3c6-42ff-9445-298b20aabe27"
      },
      "source": [
        "fig, ax = plt.subplots(2, 2 ,figsize = [17,10])\n",
        "fig.tight_layout(pad=5.0)\n",
        "\n",
        "sns.distplot(ax = ax[0, 0], a = num_data['Age'].dropna(), rug = True, color = 'b', fit = norm)\n",
        "ax[0, 0].set_title('Age', fontsize = 15)\n",
        "\n",
        "sns.distplot(ax = ax[0, 1], a = num_data['Fare'].dropna(), rug = True, color = 'g', fit = expon)\n",
        "ax[0, 1].set_title('Fare', fontsize = 15)\n",
        "\n",
        "sns.distplot(ax = ax[1, 0], a = num_data['SibSp'].dropna(), rug = True, color = 'y')\n",
        "ax[1, 0].set_title('SibSp', fontsize = 15)\n",
        "\n",
        "sns.distplot(ax = ax[1, 1], a = num_data['Parch'].dropna(), rug = True, color = 'y')\n",
        "ax[1, 1].set_title('Parch', fontsize = 15)\n",
        "\n",
        "plt.show()"
      ],
      "execution_count": 79,
      "outputs": [
        {
          "output_type": "display_data",
          "data": {
            "image/png": "[encoded data removed]",
            "text/plain": [
              "<Figure size 1224x720 with 4 Axes>"
            ]
          },
          "metadata": {
            "tags": [],
            "needs_background": "light"
          }
        }
      ]
    },
    {
      "cell_type": "markdown",
      "metadata": {
        "id": "o0597ws5ORJs",
        "colab_type": "text"
      },
      "source": [
        "Remarques sur les graphiques ci dessus, si l'on voudrait plus tard utiliser la distribution de ces variables :\n",
        "* l'age semble avoir une jolie distribution normale;\n",
        "* de même pour le prix du ticket avec une loi exponentielle;\n",
        "* `SibSp` et `Parch`, semblent elles suivre une loi de poisson, cela est purement hypothétique."
      ]
    },
    {
      "cell_type": "markdown",
      "metadata": {
        "id": "U-KfYPOAdicW",
        "colab_type": "text"
      },
      "source": [
        "On utilise ici la fonction `heatmap` de `sns`, elle permet de notamment regarder les coorélations entre les différentes variables, et de vérifier qu'elles ne soient pas colinéaires entre elles."
      ]
    },
    {
      "cell_type": "code",
      "metadata": {
        "id": "s07DqZnCxvie",
        "colab_type": "code",
        "colab": {
          "base_uri": "https://localhost:8080/",
          "height": 378
        },
        "outputId": "cf821abe-4df4-40a6-b503-b1d4f382154e"
      },
      "source": [
        "# heatmap data numeric, to prevent multicolinearity\n",
        "\n",
        "heatmapdata = train[['Survived', 'Age', 'SibSp', 'Parch', 'Fare']]\n",
        "\n",
        "correl_mat = heatmapdata.corr()\n",
        "fig, ax = plt.subplots(figsize = [12,6])\n",
        "sns.heatmap(data = correl_mat, vmax = 1, vmin = -1, annot = True, cmap = 'bwr')\n",
        "plt.show()"
      ],
      "execution_count": 80,
      "outputs": [
        {
          "output_type": "display_data",
          "data": {
            "image/png": "[encoded data removed]",
            "text/plain": [
              "<Figure size 864x432 with 2 Axes>"
            ]
          },
          "metadata": {
            "tags": [],
            "needs_background": "light"
          }
        }
      ]
    },
    {
      "cell_type": "markdown",
      "metadata": {
        "id": "u9cPoUbfO4Fs",
        "colab_type": "text"
      },
      "source": [
        "Remarques sur le graphique ci-dessus : Pas de corrélation apparente, toutes les variables numériques semblent donc pertinentes et à conserver."
      ]
    },
    {
      "cell_type": "markdown",
      "metadata": {
        "id": "EMu5NMAWfK7D",
        "colab_type": "text"
      },
      "source": [
        "On va alors s'intéresser aux variables catégoriques et regarder simplement leur proportions dans le dataset :"
      ]
    },
    {
      "cell_type": "code",
      "metadata": {
        "id": "dirS8HeOxvJo",
        "colab_type": "code",
        "colab": {
          "base_uri": "https://localhost:8080/",
          "height": 934
        },
        "outputId": "ed98a29e-1d9b-4562-83f9-58a68c734308"
      },
      "source": [
        "fig, ax = plt.subplots(cat_data.shape[1], 1, figsize = [8,16])\n",
        "for i, n in enumerate(cat_data):\n",
        "    sns.barplot(ax = ax[i], x = cat_data[n].fillna('NaN').value_counts().index, y = cat_data[n].fillna('NaN').value_counts())\n",
        "    ax[i].set_title(n)\n",
        "plt.show()"
      ],
      "execution_count": 81,
      "outputs": [
        {
          "output_type": "display_data",
          "data": {
            "image/png": "[encoded data removed]",
            "text/plain": [
              "<Figure size 576x1152 with 5 Axes>"
            ]
          },
          "metadata": {
            "tags": [],
            "needs_background": "light"
          }
        }
      ]
    },
    {
      "cell_type": "markdown",
      "metadata": {
        "id": "RpFRXDJ_lFKa",
        "colab_type": "text"
      },
      "source": [
        "Remarques sur les graphiques ci-dessus : On n'apprend pas vraiment quelque chose de plus que ce qui a été vu dans l'exploration des données, on retiendra surtout le fait que la variable `Cabin` ne ressemble pas à grand chose avec beaucoup de `NaN` et ne semble pas pertinente pour nous donner de l'information.\n",
        "\n",
        "On va alors s'intéresser à la relations entre certaines variables (`Pclass`, `Sex`, `SibSp`, `Parch`) et la variable d'intéret `Survivied` :"
      ]
    },
    {
      "cell_type": "code",
      "metadata": {
        "id": "xHlH8KehTWYh",
        "colab_type": "code",
        "colab": {
          "base_uri": "https://localhost:8080/",
          "height": 364
        },
        "outputId": "0b0a428c-423b-4f39-f981-dc4acbd429e5"
      },
      "source": [
        "print(train_data[['Pclass', 'Survived']].groupby(['Pclass'], as_index=False).mean().sort_values(by='Survived', ascending=False))\n",
        "sns.countplot(x=\"Pclass\", hue=\"Survived\", data=train_data, palette='pastel')"
      ],
      "execution_count": 82,
      "outputs": [
        {
          "output_type": "stream",
          "text": [
            "   Pclass  Survived\n",
            "0       1  0.629630\n",
            "1       2  0.472826\n",
            "2       3  0.242363\n"
          ],
          "name": "stdout"
        },
        {
          "output_type": "execute_result",
          "data": {
            "text/plain": [
              "<matplotlib.axes._subplots.AxesSubplot at 0x7f7ee6094c88>"
            ]
          },
          "metadata": {
            "tags": []
          },
          "execution_count": 82
        },
        {
          "output_type": "display_data",
          "data": {
            "image/png": "[encoded data removed]",
            "text/plain": [
              "<Figure size 432x288 with 1 Axes>"
            ]
          },
          "metadata": {
            "tags": [],
            "needs_background": "light"
          }
        }
      ]
    },
    {
      "cell_type": "markdown",
      "metadata": {
        "id": "jKIsAaF-TW9-",
        "colab_type": "text"
      },
      "source": [
        "On remarque tout d'abord que le mythe de la \"première classe\" et \"troisième classe\" est véridique, 63% des passagers de première classe ont survécus contre un petit 25% pour la troisième classe."
      ]
    },
    {
      "cell_type": "code",
      "metadata": {
        "id": "GjvN31J9TXnA",
        "colab_type": "code",
        "colab": {
          "base_uri": "https://localhost:8080/",
          "height": 347
        },
        "outputId": "fd6be201-da2c-4cf3-d1c2-f134d7fc9440"
      },
      "source": [
        "print(train_data[[\"Sex\", \"Survived\"]].groupby(['Sex'], as_index=False).mean().sort_values(by='Survived', ascending=False))\n",
        "sns.countplot(x=\"Sex\", hue=\"Survived\", data=train_data, palette='pastel')"
      ],
      "execution_count": 83,
      "outputs": [
        {
          "output_type": "stream",
          "text": [
            "      Sex  Survived\n",
            "0  female  0.742038\n",
            "1    male  0.188908\n"
          ],
          "name": "stdout"
        },
        {
          "output_type": "execute_result",
          "data": {
            "text/plain": [
              "<matplotlib.axes._subplots.AxesSubplot at 0x7f7ee2da7ac8>"
            ]
          },
          "metadata": {
            "tags": []
          },
          "execution_count": 83
        },
        {
          "output_type": "display_data",
          "data": {
            "image/png": "[encoded data removed]",
            "text/plain": [
              "<Figure size 432x288 with 1 Axes>"
            ]
          },
          "metadata": {
            "tags": [],
            "needs_background": "light"
          }
        }
      ]
    },
    {
      "cell_type": "markdown",
      "metadata": {
        "id": "NXqg0DrHTYWq",
        "colab_type": "text"
      },
      "source": [
        "Les femmes ont aussi un lourd avantage, presque 75% pour les femmes contre un faible 19% pour les hommes.\n",
        "\n",
        "La classe et le sexe semblent donc être des variables très significatives nous vérifieront ça par la suite avec un modèle linéaire simple."
      ]
    },
    {
      "cell_type": "code",
      "metadata": {
        "id": "e5te3fyRTeEj",
        "colab_type": "code",
        "colab": {
          "base_uri": "https://localhost:8080/",
          "height": 432
        },
        "outputId": "f16c1144-bc17-4241-9f89-da59b0695125"
      },
      "source": [
        "print(train_data[[\"SibSp\", \"Survived\"]].groupby(['SibSp'], as_index=False).mean().sort_values(by='Survived', ascending=False))\n",
        "sns.countplot(x=\"SibSp\", hue=\"Survived\", data=train_data, palette='pastel')"
      ],
      "execution_count": 84,
      "outputs": [
        {
          "output_type": "stream",
          "text": [
            "   SibSp  Survived\n",
            "1      1  0.535885\n",
            "2      2  0.464286\n",
            "0      0  0.345395\n",
            "3      3  0.250000\n",
            "4      4  0.166667\n",
            "5      5  0.000000\n",
            "6      8  0.000000\n"
          ],
          "name": "stdout"
        },
        {
          "output_type": "execute_result",
          "data": {
            "text/plain": [
              "<matplotlib.axes._subplots.AxesSubplot at 0x7f7eeec437b8>"
            ]
          },
          "metadata": {
            "tags": []
          },
          "execution_count": 84
        },
        {
          "output_type": "display_data",
          "data": {
            "image/png": "[encoded data removed]",
            "text/plain": [
              "<Figure size 432x288 with 1 Axes>"
            ]
          },
          "metadata": {
            "tags": [],
            "needs_background": "light"
          }
        }
      ]
    },
    {
      "cell_type": "markdown",
      "metadata": {
        "id": "MDmnHJlKTeaN",
        "colab_type": "text"
      },
      "source": [
        "Il est ici plus compliqué d'observer une tendance, il semblerait que les chances de survies soient meilleures avec 1 ou 2 siblings, mais cela reste flou... Il y a peu de données pour les grandes valeurs (> 3) et beaucop pour le 0 (gens seuls) qui semble être assez révélateur d'une mauvaise posture quant à la surive (35 %). "
      ]
    },
    {
      "cell_type": "code",
      "metadata": {
        "id": "FnpiwDDITe8j",
        "colab_type": "code",
        "colab": {
          "base_uri": "https://localhost:8080/",
          "height": 432
        },
        "outputId": "4b4489a1-e5cb-4083-8785-ea21bc9fe052"
      },
      "source": [
        "print(train_data[[\"Parch\", \"Survived\"]].groupby(['Parch'], as_index=False).mean().sort_values(by='Survived', ascending=False))\n",
        "sns.countplot(x=\"Parch\", hue=\"Survived\", data=train_data, palette = 'pastel')"
      ],
      "execution_count": 85,
      "outputs": [
        {
          "output_type": "stream",
          "text": [
            "   Parch  Survived\n",
            "3      3  0.600000\n",
            "1      1  0.550847\n",
            "2      2  0.500000\n",
            "0      0  0.343658\n",
            "5      5  0.200000\n",
            "4      4  0.000000\n",
            "6      6  0.000000\n"
          ],
          "name": "stdout"
        },
        {
          "output_type": "execute_result",
          "data": {
            "text/plain": [
              "<matplotlib.axes._subplots.AxesSubplot at 0x7f7ee3026b00>"
            ]
          },
          "metadata": {
            "tags": []
          },
          "execution_count": 85
        },
        {
          "output_type": "display_data",
          "data": {
            "image/png": "[encoded data removed]",
            "text/plain": [
              "<Figure size 432x288 with 1 Axes>"
            ]
          },
          "metadata": {
            "tags": [],
            "needs_background": "light"
          }
        }
      ]
    },
    {
      "cell_type": "markdown",
      "metadata": {
        "id": "CVwCeOmkTfbI",
        "colab_type": "text"
      },
      "source": [
        "De même pour les enfants/parents, peu de tendance semble se dégager, la taille des données chute exponentiellement. "
      ]
    },
    {
      "cell_type": "markdown",
      "metadata": {
        "id": "igGqXN5Um5N7",
        "colab_type": "text"
      },
      "source": [
        "On pourrait continuer un certain temps comme cela, augmentant les intéractions entre les variables, mais on va préférer une approche un peu plus mathématique à la question. On retiendra que :\n",
        "\n",
        "\n",
        "\n",
        "*   Comme prévu, `Pclass`, `Sex` et `Age` sont des variables qui *semblent* significatives;\n",
        "*   Il est difficile de tirer une tendance des autres.\n",
        "\n",
        "Mais aussi que les variables à compléter sont : `Age`, `Fare` et `Embarked`. On laisse pour plus tard le travail sur `Name` et `Cabin` pour l'exploitation de ces données."
      ]
    },
    {
      "cell_type": "markdown",
      "metadata": {
        "id": "J5kEuNehQFYs",
        "colab_type": "text"
      },
      "source": [
        "## Régression linéaire (rapide)"
      ]
    },
    {
      "cell_type": "markdown",
      "metadata": {
        "id": "8nrPrPTVQMXn",
        "colab_type": "text"
      },
      "source": [
        "On se propose alors maintenant, comme tout bon Data Scientist, de regarder assez rapidement les données via un Modèle Linéaire standard, pour savoir si nos suppositions de pertinence des variables effectuée ci-dessus s'avèrent correctes, et quelles variables sont peut significatives, et seront donc sujet à travail.\n",
        "On retire d'ores et déjà la variable `Name`, étant donné qu'elle ne contient que des varaibles différentes, ainsi que la classe `PassengerId` pour des raisons évidentes, et la classe . Le modèle va tout seul implémenter des valeurs chiffrées pour les classe de type `str`.\n",
        "\n",
        "On notera que l'absence de certaines valeurs ne posera pas de problèmes au modèle, et on les supposera sans conséquences sur la significaivité des variables. On les completera juste après dans une partie appropriée."
      ]
    },
    {
      "cell_type": "code",
      "metadata": {
        "id": "mEVilZKYQLXg",
        "colab_type": "code",
        "colab": {
          "base_uri": "https://localhost:8080/",
          "height": 561
        },
        "outputId": "bf88d641-c5be-486e-fc58-c275d9b9607c"
      },
      "source": [
        "model = smf.ols(\"Survived ~ Pclass + Sex + Age + SibSp + Parch + Fare + Embarked\", data = train).fit()\n",
        "print(model.summary())"
      ],
      "execution_count": 86,
      "outputs": [
        {
          "output_type": "stream",
          "text": [
            "                            OLS Regression Results                            \n",
            "==============================================================================\n",
            "Dep. Variable:               Survived   R-squared:                       0.401\n",
            "Model:                            OLS   Adj. R-squared:                  0.394\n",
            "Method:                 Least Squares   F-statistic:                     58.84\n",
            "Date:                Sun, 23 Aug 2020   Prob (F-statistic):           2.73e-73\n",
            "Time:                        08:41:55   Log-Likelihood:                -321.06\n",
            "No. Observations:                 712   AIC:                             660.1\n",
            "Df Residuals:                     703   BIC:                             701.2\n",
            "Df Model:                           8                                         \n",
            "Covariance Type:            nonrobust                                         \n",
            "=================================================================================\n",
            "                    coef    std err          t      P>|t|      [0.025      0.975]\n",
            "---------------------------------------------------------------------------------\n",
            "Intercept         1.4031      0.082     17.214      0.000       1.243       1.563\n",
            "Sex[T.male]      -0.4854      0.032    -15.389      0.000      -0.547      -0.423\n",
            "Embarked[T.Q]    -0.0987      0.082     -1.198      0.231      -0.260       0.063\n",
            "Embarked[T.S]    -0.0664      0.040     -1.674      0.095      -0.144       0.011\n",
            "Pclass           -0.1874      0.023     -8.183      0.000      -0.232      -0.142\n",
            "Age              -0.0064      0.001     -5.661      0.000      -0.009      -0.004\n",
            "SibSp            -0.0508      0.017     -2.912      0.004      -0.085      -0.017\n",
            "Parch            -0.0107      0.019     -0.561      0.575      -0.048       0.027\n",
            "Fare              0.0002      0.000      0.565      0.572      -0.000       0.001\n",
            "==============================================================================\n",
            "Omnibus:                       25.698   Durbin-Watson:                   1.846\n",
            "Prob(Omnibus):                  0.000   Jarque-Bera (JB):               27.819\n",
            "Skew:                           0.484   Prob(JB):                     9.10e-07\n",
            "Kurtosis:                       3.019   Cond. No.                         406.\n",
            "==============================================================================\n",
            "\n",
            "Warnings:\n",
            "[1] Standard Errors assume that the covariance matrix of the errors is correctly specified.\n"
          ],
          "name": "stdout"
        }
      ]
    },
    {
      "cell_type": "markdown",
      "metadata": {
        "id": "7hx6H5ngQPo1",
        "colab_type": "text"
      },
      "source": [
        "Sur cette première régression, il est utile de noter les variables significatives (p-value < 0.05) : \n",
        "\n",
        "*   `Sex`\n",
        "*   `Pclass`\n",
        "*   `Age`\n",
        "*   `SibSp`\n",
        "\n",
        "Celles qui peuvent être jugées non significatives (p-value élevée, proche ou supérieur à 0.1) sont donc :\n",
        "\n",
        "*   `Parch`\n",
        "*   `Fare`\n",
        "*   `Embarked`\n",
        "\n",
        "On notera le score beaucoup plus bas pour `Embarked[T.S]`, ce qui semble normal, le S étant beaucoup plus prépondérant (72% de l'ensemble).\n",
        "\n",
        "On se propose alors, d'effectuer une seconde régression linéaire uniquement sur les variables jugées significatives sur cette première régression :"
      ]
    },
    {
      "cell_type": "code",
      "metadata": {
        "id": "OZFD-xtFQVHF",
        "colab_type": "code",
        "colab": {
          "base_uri": "https://localhost:8080/",
          "height": 493
        },
        "outputId": "006da1ad-ee01-4cda-ca8b-712bcdaafafa"
      },
      "source": [
        "model_2 = smf.ols(\"Survived ~ Pclass + Sex + Age + SibSp\", data = train).fit()\n",
        "print(model_2.summary())"
      ],
      "execution_count": 87,
      "outputs": [
        {
          "output_type": "stream",
          "text": [
            "                            OLS Regression Results                            \n",
            "==============================================================================\n",
            "Dep. Variable:               Survived   R-squared:                       0.400\n",
            "Model:                            OLS   Adj. R-squared:                  0.396\n",
            "Method:                 Least Squares   F-statistic:                     118.0\n",
            "Date:                Sun, 23 Aug 2020   Prob (F-statistic):           3.81e-77\n",
            "Time:                        08:41:55   Log-Likelihood:                -323.22\n",
            "No. Observations:                 714   AIC:                             656.4\n",
            "Df Residuals:                     709   BIC:                             679.3\n",
            "Df Model:                           4                                         \n",
            "Covariance Type:            nonrobust                                         \n",
            "===============================================================================\n",
            "                  coef    std err          t      P>|t|      [0.025      0.975]\n",
            "-------------------------------------------------------------------------------\n",
            "Intercept       1.3966      0.066     21.287      0.000       1.268       1.525\n",
            "Sex[T.male]    -0.4865      0.031    -15.937      0.000      -0.546      -0.427\n",
            "Pclass         -0.2053      0.019    -10.937      0.000      -0.242      -0.168\n",
            "Age            -0.0066      0.001     -5.839      0.000      -0.009      -0.004\n",
            "SibSp          -0.0545      0.016     -3.359      0.001      -0.086      -0.023\n",
            "==============================================================================\n",
            "Omnibus:                       25.229   Durbin-Watson:                   1.847\n",
            "Prob(Omnibus):                  0.000   Jarque-Bera (JB):               27.215\n",
            "Skew:                           0.478   Prob(JB):                     1.23e-06\n",
            "Kurtosis:                       3.038   Cond. No.                         157.\n",
            "==============================================================================\n",
            "\n",
            "Warnings:\n",
            "[1] Standard Errors assume that the covariance matrix of the errors is correctly specified.\n"
          ],
          "name": "stdout"
        }
      ]
    },
    {
      "cell_type": "markdown",
      "metadata": {
        "id": "pGxVL5D9QdS0",
        "colab_type": "text"
      },
      "source": [
        "Toute les p-values sont ici largement inférieures à 0.05, on les considère donc toutes comme significatives.\n",
        "\n",
        "On peut donc commencer le travail sur les données."
      ]
    },
    {
      "cell_type": "markdown",
      "metadata": {
        "id": "X-kpvPu5yBhj",
        "colab_type": "text"
      },
      "source": [
        "# Pré-processing (les 4 'C')\n",
        "\n",
        "Appris dans un très beau Notebook, plus que complet (non cité plus haut, celui de LD Freeman), cela permet de se rappeler plus que facilement que faire lors du pré-procesing :\n",
        "\n",
        "- Completing : Compléter le dataset qui comporte probablement des valeurs manquantes\n",
        "- Cleaning : Nettoyer le dataset, chercher les valeurs aberrantes notamment\n",
        "- Creating : Créer de nouvelles variables qui semblent pertinentes et utiles pour la modélisation\n",
        "- Converting : Normaliser, Scaler, Centrer toutes les varaibles numériques (pas forcément celles qui servent de 'compteur' attention)"
      ]
    },
    {
      "cell_type": "markdown",
      "metadata": {
        "id": "bji6rgLmyTrl",
        "colab_type": "text"
      },
      "source": [
        "## Complétion (Completing)"
      ]
    },
    {
      "cell_type": "code",
      "metadata": {
        "id": "KmpP7pK6x_0P",
        "colab_type": "code",
        "colab": {
          "base_uri": "https://localhost:8080/",
          "height": 527
        },
        "outputId": "d3171bc9-0158-4969-b588-6885a9373941"
      },
      "source": [
        "# On insère une colonne 'Survived' dans le set de test (remplie de -1)\n",
        "\n",
        "test.insert(1, 'Survived', -1)\n",
        "\n",
        "# test.info()\n",
        "\n",
        "# On regarde quelles colonnes présentent des valeurs manquantes dans les deux datasets\n",
        "\n",
        "print('Train :\\n',train.isnull().sum())\n",
        "print('\\n')\n",
        "print('Test :\\n', test.isnull().sum())"
      ],
      "execution_count": 88,
      "outputs": [
        {
          "output_type": "stream",
          "text": [
            "Train :\n",
            " PassengerId      0\n",
            "Survived         0\n",
            "Pclass           0\n",
            "Name             0\n",
            "Sex              0\n",
            "Age            177\n",
            "SibSp            0\n",
            "Parch            0\n",
            "Ticket           0\n",
            "Fare             0\n",
            "Cabin          687\n",
            "Embarked         2\n",
            "dtype: int64\n",
            "\n",
            "\n",
            "Test :\n",
            " PassengerId      0\n",
            "Survived         0\n",
            "Pclass           0\n",
            "Name             0\n",
            "Sex              0\n",
            "Age             86\n",
            "SibSp            0\n",
            "Parch            0\n",
            "Ticket           0\n",
            "Fare             1\n",
            "Cabin          327\n",
            "Embarked         0\n",
            "dtype: int64\n"
          ],
          "name": "stdout"
        }
      ]
    },
    {
      "cell_type": "markdown",
      "metadata": {
        "id": "5MV5xKotYooZ",
        "colab_type": "text"
      },
      "source": [
        "La bibliothèque Pandas possède la fonction `Dataframe[].fillna()` qui permet de remplir suivant certaines méthodes des valeurs `NaN` dans un dataset (plus à : https://pandas.pydata.org/pandas-docs/stable/reference/api/pandas.DataFrame.fillna.html)"
      ]
    },
    {
      "cell_type": "code",
      "metadata": {
        "id": "x6HKIkojyLLh",
        "colab_type": "code",
        "colab": {}
      },
      "source": [
        "# On remplit les valeurs manquantes par les médiandes pour l'age et pour le prix du ticket, par le mode pour le lieux d'embarcation\n",
        "\n",
        "train['Age'].fillna(train['Age'].median(), inplace = True)\n",
        "test['Age'].fillna(train['Age'].median(), inplace = True)\n",
        "\n",
        "train['Fare'].fillna(train['Fare'].median(), inplace = True)\n",
        "test['Fare'].fillna(train['Fare'].median(), inplace = True)\n",
        "\n",
        "train['Embarked'].fillna(train['Embarked'].mode()[0], inplace = True)\n",
        "test['Embarked'].fillna(test['Embarked'].mode()[0], inplace = True)\n",
        "\n",
        "# On drop alors les lignes ne présentant pas de valeurs pour Embarked\n",
        "\n",
        "# On décide pour l'instant de drop aussi la colonne Cabin\n",
        "\n",
        "train.drop(['Cabin'], axis = 1, inplace = True)\n",
        "test.drop(['Cabin'], axis = 1, inplace = True)"
      ],
      "execution_count": 89,
      "outputs": []
    },
    {
      "cell_type": "code",
      "metadata": {
        "id": "l1qMyQrjyO7P",
        "colab_type": "code",
        "colab": {
          "base_uri": "https://localhost:8080/",
          "height": 493
        },
        "outputId": "876264c8-73f2-4d80-a14a-4fb0617e5efe"
      },
      "source": [
        "# On vérifie que l'on ne possède plus de valeurs nulles dans le dataset\n",
        "\n",
        "print('Train :\\n',train.isnull().sum())\n",
        "print('\\n')\n",
        "print('Test :\\n', test.isnull().sum())"
      ],
      "execution_count": 90,
      "outputs": [
        {
          "output_type": "stream",
          "text": [
            "Train :\n",
            " PassengerId    0\n",
            "Survived       0\n",
            "Pclass         0\n",
            "Name           0\n",
            "Sex            0\n",
            "Age            0\n",
            "SibSp          0\n",
            "Parch          0\n",
            "Ticket         0\n",
            "Fare           0\n",
            "Embarked       0\n",
            "dtype: int64\n",
            "\n",
            "\n",
            "Test :\n",
            " PassengerId    0\n",
            "Survived       0\n",
            "Pclass         0\n",
            "Name           0\n",
            "Sex            0\n",
            "Age            0\n",
            "SibSp          0\n",
            "Parch          0\n",
            "Ticket         0\n",
            "Fare           0\n",
            "Embarked       0\n",
            "dtype: int64\n"
          ],
          "name": "stdout"
        }
      ]
    },
    {
      "cell_type": "markdown",
      "metadata": {
        "id": "sWzYXvaD5MGG",
        "colab_type": "text"
      },
      "source": [
        "## Nettoyage (Cleaning)"
      ]
    },
    {
      "cell_type": "markdown",
      "metadata": {
        "id": "HUcjLh_8dd3D",
        "colab_type": "text"
      },
      "source": [
        "On supprime juste les valeurs aberrantes comme expliqué ici : https://towardsdatascience.com/ways-to-detect-and-remove-the-outliers-404d16608dba"
      ]
    },
    {
      "cell_type": "code",
      "metadata": {
        "id": "KZAtVHak5MiJ",
        "colab_type": "code",
        "colab": {}
      },
      "source": [
        "# Gérer les valeurs aberrantes\n",
        "\n",
        "q1 = train['Age'].quantile(0.25)\n",
        "q3 = train['Age'].quantile(0.75)\n",
        "iqr = q3-q1\n",
        "train = train[~((train['Age'] < (q1 - 1.5 * iqr)) | (train['Age'] > (q3+1.5*iqr)))]\n",
        "\n",
        "q1=train['Fare'].quantile(0.25)\n",
        "q3 = train['Fare'].quantile(0.75)\n",
        "iqr = q3-q1\n",
        "train = train[~((train['Fare'] < q1 - 1.5 * iqr) | (train['Fare'] > (q3 + 1.5 * iqr)))]"
      ],
      "execution_count": 91,
      "outputs": []
    },
    {
      "cell_type": "markdown",
      "metadata": {
        "id": "5mAVuBvR5YRG",
        "colab_type": "text"
      },
      "source": [
        "## Création (Creating)"
      ]
    },
    {
      "cell_type": "markdown",
      "metadata": {
        "id": "BoN-43-Fg3N-",
        "colab_type": "text"
      },
      "source": [
        "On se demande ici quelles variables supplémentaires nous allons pouvoir créer, qui vont nous aider à obtenir la meilleure prédiction possible. On s'arrêtera sur les variables suivantes :\n",
        "\n",
        "1. Les deux variables `Family Survived` et `Family Died` dont la construction est exposée ci-dessous via une varialbe `Last Name`\n",
        "2. La variable `Size_Family` qui représente la taille de la famille du passager\n",
        "3. La variable `Title` qui utilise aussi le nom du passager et récupère son titre."
      ]
    },
    {
      "cell_type": "markdown",
      "metadata": {
        "id": "sMgbXPzwkdKc",
        "colab_type": "text"
      },
      "source": [
        "Le code suivant vient de Ken Jee (et sa très complète vidéo youtube : https://www.youtube.com/watch?v=I3FBJdiExcg&t=1477s). L'idée est la suivante : rajouter deux colonnes, `FamilyDied` et `FamilySurvived`, qui indiqueront donc le nombre de membres de la famille du passager ayant survécus (ou non). La mise en place se fait comme suit :\n",
        "\n",
        "- On récupère les noms de familles des passagers;\n",
        "- On merge les deux datasets (pour avoir toutes les données si les familles sont séparées dans les deux jeux de données);\n",
        "- On va ensuite en itérant sur le jeux de données, regarder le nombre de morts et de survivants dans la famille.\n",
        "\n",
        "Il faut cependant légèrement se pencher sur la méthode de décompte : on a ajouté plus haut une varaible `Survived` à la base de test, ayant pour valeur (-1). Cela est donc pris en compte lors du calcul.\n",
        "On prendra un rapide exemple pour expliquer l'algorithme."
      ]
    },
    {
      "cell_type": "markdown",
      "metadata": {
        "id": "6LXXfTxrdycZ",
        "colab_type": "text"
      },
      "source": [
        "Etape 1 : `Family Survived` et `Family Died`"
      ]
    },
    {
      "cell_type": "code",
      "metadata": {
        "id": "5HK_LwSEyWbs",
        "colab_type": "code",
        "colab": {}
      },
      "source": [
        "train['LastName'] = train['Name'].str.split(',', expand=True)[0]\n",
        "test['LastName'] = test['Name'].str.split(',', expand=True)[0]"
      ],
      "execution_count": 92,
      "outputs": []
    },
    {
      "cell_type": "code",
      "metadata": {
        "id": "-qePc9OcyQBf",
        "colab_type": "code",
        "colab": {}
      },
      "source": [
        "# train.head()"
      ],
      "execution_count": 93,
      "outputs": []
    },
    {
      "cell_type": "code",
      "metadata": {
        "id": "9zh7UpUNygfj",
        "colab_type": "code",
        "colab": {}
      },
      "source": [
        "# train[train['SibSp'] == 4]"
      ],
      "execution_count": 94,
      "outputs": []
    },
    {
      "cell_type": "code",
      "metadata": {
        "id": "0H8t_VB7ygiv",
        "colab_type": "code",
        "colab": {}
      },
      "source": [
        "train['Train'] = 1\n",
        "test['Train'] = 0\n",
        "\n",
        "alldata = pd.concat((train, test), sort = False).reset_index(drop = True)\n",
        "\n",
        "sur_data = []\n",
        "died_data = []\n",
        "for index, row in alldata.iterrows():\n",
        "\n",
        "    # On prend les lignes du dataset ayant même nom de famille (et ayant survécus pour s, non survécu pour d)\n",
        "    s = alldata[(alldata['LastName'] == row['LastName']) & (alldata['Survived'] == 1)]\n",
        "    d = alldata[(alldata['LastName'] == row['LastName']) & (alldata['Survived'] == 0)]\n",
        "    \n",
        "    # pour les deux tableaux, on décompte \n",
        "    s=len(s)\n",
        "    if row['Survived'] == 1:\n",
        "        s-=1\n",
        "\n",
        "    d=len(d)\n",
        "    if row['Survived'] == 0:\n",
        "        d-=1\n",
        "        \n",
        "    sur_data.append(s)\n",
        "    died_data.append(d)\n",
        "    \n",
        "alldata['FamilySurvived'] = sur_data\n",
        "alldata['FamilyDied'] = died_data"
      ],
      "execution_count": 95,
      "outputs": []
    },
    {
      "cell_type": "code",
      "metadata": {
        "id": "Uczch-5OyglU",
        "colab_type": "code",
        "colab": {}
      },
      "source": [
        "# alldata[alldata['LastName'] == 'Asplund']"
      ],
      "execution_count": 96,
      "outputs": []
    },
    {
      "cell_type": "code",
      "metadata": {
        "id": "9v1lB7rMygU1",
        "colab_type": "code",
        "colab": {}
      },
      "source": [
        "# alldata"
      ],
      "execution_count": 97,
      "outputs": []
    },
    {
      "cell_type": "code",
      "metadata": {
        "id": "NogZupR-ysTo",
        "colab_type": "code",
        "colab": {}
      },
      "source": [
        "train = alldata[alldata['Train'] == 1]\n",
        "test = alldata[alldata['Train'] == 0]"
      ],
      "execution_count": 98,
      "outputs": []
    },
    {
      "cell_type": "markdown",
      "metadata": {
        "id": "pzry4Z-onALG",
        "colab_type": "text"
      },
      "source": [
        "Etape 2 : `Size_Family`"
      ]
    },
    {
      "cell_type": "code",
      "metadata": {
        "id": "6qfqnHjfnEW_",
        "colab_type": "code",
        "colab": {
          "base_uri": "https://localhost:8080/",
          "height": 221
        },
        "outputId": "bd1cbdc3-578d-4bed-8899-c973fdbadc65"
      },
      "source": [
        "# On crée la colonne Size_Family\n",
        "\n",
        "train['Size_Family'] = train['Parch'] + train['SibSp'] + 1\n",
        "test['Size_Family'] = test['Parch'] + test['SibSp'] + 1"
      ],
      "execution_count": 99,
      "outputs": [
        {
          "output_type": "stream",
          "text": [
            "/usr/local/lib/python3.6/dist-packages/ipykernel_launcher.py:3: SettingWithCopyWarning: \n",
            "A value is trying to be set on a copy of a slice from a DataFrame.\n",
            "Try using .loc[row_indexer,col_indexer] = value instead\n",
            "\n",
            "See the caveats in the documentation: https://pandas.pydata.org/pandas-docs/stable/user_guide/indexing.html#returning-a-view-versus-a-copy\n",
            "  This is separate from the ipykernel package so we can avoid doing imports until\n",
            "/usr/local/lib/python3.6/dist-packages/ipykernel_launcher.py:4: SettingWithCopyWarning: \n",
            "A value is trying to be set on a copy of a slice from a DataFrame.\n",
            "Try using .loc[row_indexer,col_indexer] = value instead\n",
            "\n",
            "See the caveats in the documentation: https://pandas.pydata.org/pandas-docs/stable/user_guide/indexing.html#returning-a-view-versus-a-copy\n",
            "  after removing the cwd from sys.path.\n"
          ],
          "name": "stderr"
        }
      ]
    },
    {
      "cell_type": "markdown",
      "metadata": {
        "id": "k_6iasronCZG",
        "colab_type": "text"
      },
      "source": [
        "Etape 3 : `Title`"
      ]
    },
    {
      "cell_type": "code",
      "metadata": {
        "id": "e9vhwyGHnFTs",
        "colab_type": "code",
        "colab": {
          "base_uri": "https://localhost:8080/",
          "height": 629
        },
        "outputId": "51320b79-193c-478f-8d67-43a2332afe90"
      },
      "source": [
        "train['Title'] = train.Name.str.extract(' ([A-Za-z]+)\\.', expand=False)\n",
        "test['Title'] = test.Name.str.extract(' ([A-Za-z]+)\\.', expand=False)\n",
        "\n",
        "pd.crosstab(train['Title'], train['Sex'])\n",
        "\n",
        "for dataset in [train, test]:\n",
        "    dataset['Title'] = dataset['Title'].replace(['Lady', 'Countess','Capt', 'Col',\\\n",
        " \t'Don', 'Dr', 'Major', 'Rev', 'Sir', 'Jonkheer', 'Dona'], 'Rare')\n",
        "\n",
        "    dataset['Title'] = dataset['Title'].replace('Mlle', 'Miss')\n",
        "    dataset['Title'] = dataset['Title'].replace('Ms', 'Miss')\n",
        "    dataset['Title'] = dataset['Title'].replace('Mme', 'Mrs')"
      ],
      "execution_count": 100,
      "outputs": [
        {
          "output_type": "stream",
          "text": [
            "/usr/local/lib/python3.6/dist-packages/ipykernel_launcher.py:1: SettingWithCopyWarning: \n",
            "A value is trying to be set on a copy of a slice from a DataFrame.\n",
            "Try using .loc[row_indexer,col_indexer] = value instead\n",
            "\n",
            "See the caveats in the documentation: https://pandas.pydata.org/pandas-docs/stable/user_guide/indexing.html#returning-a-view-versus-a-copy\n",
            "  \"\"\"Entry point for launching an IPython kernel.\n",
            "/usr/local/lib/python3.6/dist-packages/ipykernel_launcher.py:2: SettingWithCopyWarning: \n",
            "A value is trying to be set on a copy of a slice from a DataFrame.\n",
            "Try using .loc[row_indexer,col_indexer] = value instead\n",
            "\n",
            "See the caveats in the documentation: https://pandas.pydata.org/pandas-docs/stable/user_guide/indexing.html#returning-a-view-versus-a-copy\n",
            "  \n",
            "/usr/local/lib/python3.6/dist-packages/ipykernel_launcher.py:7: SettingWithCopyWarning: \n",
            "A value is trying to be set on a copy of a slice from a DataFrame.\n",
            "Try using .loc[row_indexer,col_indexer] = value instead\n",
            "\n",
            "See the caveats in the documentation: https://pandas.pydata.org/pandas-docs/stable/user_guide/indexing.html#returning-a-view-versus-a-copy\n",
            "  import sys\n",
            "/usr/local/lib/python3.6/dist-packages/ipykernel_launcher.py:9: SettingWithCopyWarning: \n",
            "A value is trying to be set on a copy of a slice from a DataFrame.\n",
            "Try using .loc[row_indexer,col_indexer] = value instead\n",
            "\n",
            "See the caveats in the documentation: https://pandas.pydata.org/pandas-docs/stable/user_guide/indexing.html#returning-a-view-versus-a-copy\n",
            "  if __name__ == '__main__':\n",
            "/usr/local/lib/python3.6/dist-packages/ipykernel_launcher.py:10: SettingWithCopyWarning: \n",
            "A value is trying to be set on a copy of a slice from a DataFrame.\n",
            "Try using .loc[row_indexer,col_indexer] = value instead\n",
            "\n",
            "See the caveats in the documentation: https://pandas.pydata.org/pandas-docs/stable/user_guide/indexing.html#returning-a-view-versus-a-copy\n",
            "  # Remove the CWD from sys.path while we load stuff.\n",
            "/usr/local/lib/python3.6/dist-packages/ipykernel_launcher.py:11: SettingWithCopyWarning: \n",
            "A value is trying to be set on a copy of a slice from a DataFrame.\n",
            "Try using .loc[row_indexer,col_indexer] = value instead\n",
            "\n",
            "See the caveats in the documentation: https://pandas.pydata.org/pandas-docs/stable/user_guide/indexing.html#returning-a-view-versus-a-copy\n",
            "  # This is added back by InteractiveShellApp.init_path()\n"
          ],
          "name": "stderr"
        }
      ]
    },
    {
      "cell_type": "code",
      "metadata": {
        "id": "iWMHr4TX5-FG",
        "colab_type": "code",
        "colab": {}
      },
      "source": [
        "#train[['Title', 'Survived']].groupby(['Title'], as_index=False).mean()"
      ],
      "execution_count": 101,
      "outputs": []
    },
    {
      "cell_type": "code",
      "metadata": {
        "id": "zXv5JT7xy_6m",
        "colab_type": "code",
        "colab": {}
      },
      "source": [
        "#train['FareBin'] = pd.qcut(train['Fare'], 4)\n",
        "#test['FareBin'] = pd.qcut(test['Fare'], 4)\n",
        "\n",
        "#train['AgeBin'] = pd.cut(train['Age'].astype(int), 5)\n",
        "#test['AgeBin'] = pd.cut(test['Age'].astype(int), 5)"
      ],
      "execution_count": 102,
      "outputs": []
    },
    {
      "cell_type": "code",
      "metadata": {
        "id": "jxvT0gIG41YR",
        "colab_type": "code",
        "colab": {}
      },
      "source": [
        "data1 = train.copy(deep = True)\n",
        "data2 = test.copy(deep = True)"
      ],
      "execution_count": 103,
      "outputs": []
    },
    {
      "cell_type": "markdown",
      "metadata": {
        "id": "YXdE_Y8Jikdg",
        "colab_type": "text"
      },
      "source": [
        "## Conversion (Converting)"
      ]
    },
    {
      "cell_type": "code",
      "metadata": {
        "id": "mDE0sH-nyxWG",
        "colab_type": "code",
        "colab": {
          "base_uri": "https://localhost:8080/",
          "height": 221
        },
        "outputId": "3121f704-0656-4ef4-8928-3dabacc4e848"
      },
      "source": [
        "# On effectue une log-transform sur les prix (qui sont distribué sous une exponentielle semble-t-il pour s'approcher d'une distribution normale)\n",
        "\n",
        "train['Fare'] = np.log(train['Fare']+1)\n",
        "test['Fare'] = np.log(test['Fare']+1)"
      ],
      "execution_count": 104,
      "outputs": [
        {
          "output_type": "stream",
          "text": [
            "/usr/local/lib/python3.6/dist-packages/ipykernel_launcher.py:3: SettingWithCopyWarning: \n",
            "A value is trying to be set on a copy of a slice from a DataFrame.\n",
            "Try using .loc[row_indexer,col_indexer] = value instead\n",
            "\n",
            "See the caveats in the documentation: https://pandas.pydata.org/pandas-docs/stable/user_guide/indexing.html#returning-a-view-versus-a-copy\n",
            "  This is separate from the ipykernel package so we can avoid doing imports until\n",
            "/usr/local/lib/python3.6/dist-packages/ipykernel_launcher.py:4: SettingWithCopyWarning: \n",
            "A value is trying to be set on a copy of a slice from a DataFrame.\n",
            "Try using .loc[row_indexer,col_indexer] = value instead\n",
            "\n",
            "See the caveats in the documentation: https://pandas.pydata.org/pandas-docs/stable/user_guide/indexing.html#returning-a-view-versus-a-copy\n",
            "  after removing the cwd from sys.path.\n"
          ],
          "name": "stderr"
        }
      ]
    },
    {
      "cell_type": "code",
      "metadata": {
        "id": "E0CXDeH4y0tM",
        "colab_type": "code",
        "colab": {
          "base_uri": "https://localhost:8080/",
          "height": 282
        },
        "outputId": "9a5f8968-47a6-4b01-a5d3-e4aa205ecbf6"
      },
      "source": [
        "fig, ax = plt.subplots(1, 2 ,figsize = [16,4])\n",
        "sns.distplot(ax = ax[0], a = train['Age'], color ='b', fit=norm)\n",
        "sns.distplot(ax = ax[1], a = train['Fare'], color ='g',fit=norm)\n",
        "plt.show()"
      ],
      "execution_count": 105,
      "outputs": [
        {
          "output_type": "display_data",
          "data": {
            "image/png": "[encoded data removed]",
            "text/plain": [
              "<Figure size 1152x288 with 2 Axes>"
            ]
          },
          "metadata": {
            "tags": [],
            "needs_background": "light"
          }
        }
      ]
    },
    {
      "cell_type": "code",
      "metadata": {
        "id": "_C3AlkDQy3KW",
        "colab_type": "code",
        "colab": {}
      },
      "source": [
        "#train.head()"
      ],
      "execution_count": 106,
      "outputs": []
    },
    {
      "cell_type": "code",
      "metadata": {
        "id": "vLKXZe2xy5fj",
        "colab_type": "code",
        "colab": {}
      },
      "source": [
        "#test.head()"
      ],
      "execution_count": 107,
      "outputs": []
    },
    {
      "cell_type": "markdown",
      "metadata": {
        "id": "UR-LgC9Obmq4",
        "colab_type": "text"
      },
      "source": [
        "On va alors effectuer 3 principales manipulations, utilisant 3 fonctions de la librairie de pré-processing de sklearn :\n",
        "* `LabelEncoder` : qui permet, lorsqu'une variable est labellisée (avec des valeurs numériques) d'encoder cette labellisation pour qu'elle soit plus facile d'utilisation par un algorithme de Machine Learning;\n",
        "* `One Hot Encoder` : technique découverte grâce à la réalisation de ce notebook, permet aussi de gérer les variables qualitatives d'une base de données, plus avec le lien suivant : https://kiwidamien.github.io/are-you-getting-burned-by-one-hot-encoding.html\n",
        "* `StandardScaler` : qui permet de scaler les variables quantitatives, choses obligatoires lors du préprocessing."
      ]
    },
    {
      "cell_type": "code",
      "metadata": {
        "id": "qZE4fIsDy6dD",
        "colab_type": "code",
        "colab": {
          "base_uri": "https://localhost:8080/",
          "height": 119
        },
        "outputId": "a3ffa76c-c91e-4676-d665-e934e51f33a3"
      },
      "source": [
        "le = LabelEncoder()\n",
        "le.fit(train['Pclass'])\n",
        "train['Pclass'] = le.transform(train['Pclass'])"
      ],
      "execution_count": 108,
      "outputs": [
        {
          "output_type": "stream",
          "text": [
            "/usr/local/lib/python3.6/dist-packages/ipykernel_launcher.py:3: SettingWithCopyWarning: \n",
            "A value is trying to be set on a copy of a slice from a DataFrame.\n",
            "Try using .loc[row_indexer,col_indexer] = value instead\n",
            "\n",
            "See the caveats in the documentation: https://pandas.pydata.org/pandas-docs/stable/user_guide/indexing.html#returning-a-view-versus-a-copy\n",
            "  This is separate from the ipykernel package so we can avoid doing imports until\n"
          ],
          "name": "stderr"
        }
      ]
    },
    {
      "cell_type": "code",
      "metadata": {
        "id": "jgoJntDml2pi",
        "colab_type": "code",
        "colab": {}
      },
      "source": [
        "#train.head()"
      ],
      "execution_count": 109,
      "outputs": []
    },
    {
      "cell_type": "code",
      "metadata": {
        "id": "09b5pRphlzGP",
        "colab_type": "code",
        "colab": {
          "base_uri": "https://localhost:8080/",
          "height": 255
        },
        "outputId": "a3b17def-a3d9-4c4a-e5e0-8883bb9ee380"
      },
      "source": [
        "ohe = OneHotEncoder(sparse = False, drop = 'first', categories = 'auto')\n",
        "ohe.fit(train[['Sex', 'Embarked']])\n",
        "\n",
        "ohecategory_train = ohe.transform(train[['Sex', 'Embarked']])\n",
        "ohecategory_test = ohe.transform(test[['Sex', 'Embarked']])\n",
        "\n",
        "for i in range(ohecategory_train.shape[1]):\n",
        "    train['dummy_variable_' + str(i)] = ohecategory_train[:,i]\n",
        "\n",
        "for i in range(ohecategory_test.shape[1]):\n",
        "    test['dummy_variable_' + str(i)] = ohecategory_test[:,i]\n",
        "\n",
        "print('Train shape :', train.shape)\n",
        "print('Test shape :', test.shape)"
      ],
      "execution_count": 110,
      "outputs": [
        {
          "output_type": "stream",
          "text": [
            "Train shape : (718, 20)\n",
            "Test shape : (418, 20)\n"
          ],
          "name": "stdout"
        },
        {
          "output_type": "stream",
          "text": [
            "/usr/local/lib/python3.6/dist-packages/ipykernel_launcher.py:8: SettingWithCopyWarning: \n",
            "A value is trying to be set on a copy of a slice from a DataFrame.\n",
            "Try using .loc[row_indexer,col_indexer] = value instead\n",
            "\n",
            "See the caveats in the documentation: https://pandas.pydata.org/pandas-docs/stable/user_guide/indexing.html#returning-a-view-versus-a-copy\n",
            "  \n",
            "/usr/local/lib/python3.6/dist-packages/ipykernel_launcher.py:11: SettingWithCopyWarning: \n",
            "A value is trying to be set on a copy of a slice from a DataFrame.\n",
            "Try using .loc[row_indexer,col_indexer] = value instead\n",
            "\n",
            "See the caveats in the documentation: https://pandas.pydata.org/pandas-docs/stable/user_guide/indexing.html#returning-a-view-versus-a-copy\n",
            "  # This is added back by InteractiveShellApp.init_path()\n"
          ],
          "name": "stderr"
        }
      ]
    },
    {
      "cell_type": "code",
      "metadata": {
        "id": "hYzmMO5ooJlP",
        "colab_type": "code",
        "colab": {}
      },
      "source": [
        "#train.head()"
      ],
      "execution_count": 111,
      "outputs": []
    },
    {
      "cell_type": "code",
      "metadata": {
        "id": "tcYfrs60y82U",
        "colab_type": "code",
        "colab": {
          "base_uri": "https://localhost:8080/",
          "height": 425
        },
        "outputId": "04e7596f-f324-48b4-f7a5-a2ddd72a42c5"
      },
      "source": [
        "# Scaling des données quantitatives\n",
        "\n",
        "sc = StandardScaler()\n",
        "sc.fit(train[['Age', 'SibSp', 'Parch', 'Fare']])\n",
        "train[['Age', 'SibSp', 'Parch', 'Fare']] = sc.transform(train[['Age', 'SibSp', 'Parch', 'Fare']])\n",
        "test[['Age', 'SibSp', 'Parch', 'Fare']] = sc.transform(test[['Age', 'SibSp', 'Parch', 'Fare']])"
      ],
      "execution_count": 112,
      "outputs": [
        {
          "output_type": "stream",
          "text": [
            "/usr/local/lib/python3.6/dist-packages/ipykernel_launcher.py:5: SettingWithCopyWarning: \n",
            "A value is trying to be set on a copy of a slice from a DataFrame.\n",
            "Try using .loc[row_indexer,col_indexer] = value instead\n",
            "\n",
            "See the caveats in the documentation: https://pandas.pydata.org/pandas-docs/stable/user_guide/indexing.html#returning-a-view-versus-a-copy\n",
            "  \"\"\"\n",
            "/usr/local/lib/python3.6/dist-packages/pandas/core/indexing.py:966: SettingWithCopyWarning: \n",
            "A value is trying to be set on a copy of a slice from a DataFrame.\n",
            "Try using .loc[row_indexer,col_indexer] = value instead\n",
            "\n",
            "See the caveats in the documentation: https://pandas.pydata.org/pandas-docs/stable/user_guide/indexing.html#returning-a-view-versus-a-copy\n",
            "  self.obj[item] = s\n",
            "/usr/local/lib/python3.6/dist-packages/ipykernel_launcher.py:6: SettingWithCopyWarning: \n",
            "A value is trying to be set on a copy of a slice from a DataFrame.\n",
            "Try using .loc[row_indexer,col_indexer] = value instead\n",
            "\n",
            "See the caveats in the documentation: https://pandas.pydata.org/pandas-docs/stable/user_guide/indexing.html#returning-a-view-versus-a-copy\n",
            "  \n",
            "/usr/local/lib/python3.6/dist-packages/pandas/core/indexing.py:966: SettingWithCopyWarning: \n",
            "A value is trying to be set on a copy of a slice from a DataFrame.\n",
            "Try using .loc[row_indexer,col_indexer] = value instead\n",
            "\n",
            "See the caveats in the documentation: https://pandas.pydata.org/pandas-docs/stable/user_guide/indexing.html#returning-a-view-versus-a-copy\n",
            "  self.obj[item] = s\n"
          ],
          "name": "stderr"
        }
      ]
    },
    {
      "cell_type": "code",
      "metadata": {
        "id": "K8KT4gpszBPv",
        "colab_type": "code",
        "colab": {
          "base_uri": "https://localhost:8080/",
          "height": 445
        },
        "outputId": "ecc05362-3124-4f2a-879e-af86d13f8e94"
      },
      "source": [
        "train.head()"
      ],
      "execution_count": 113,
      "outputs": [
        {
          "output_type": "execute_result",
          "data": {
            "text/html": [
              "<div>\n",
              "<style scoped>\n",
              "    .dataframe tbody tr th:only-of-type {\n",
              "        vertical-align: middle;\n",
              "    }\n",
              "\n",
              "    .dataframe tbody tr th {\n",
              "        vertical-align: top;\n",
              "    }\n",
              "\n",
              "    .dataframe thead th {\n",
              "        text-align: right;\n",
              "    }\n",
              "</style>\n",
              "<table border=\"1\" class=\"dataframe\">\n",
              "  <thead>\n",
              "    <tr style=\"text-align: right;\">\n",
              "      <th></th>\n",
              "      <th>PassengerId</th>\n",
              "      <th>Survived</th>\n",
              "      <th>Pclass</th>\n",
              "      <th>Name</th>\n",
              "      <th>Sex</th>\n",
              "      <th>Age</th>\n",
              "      <th>SibSp</th>\n",
              "      <th>Parch</th>\n",
              "      <th>Ticket</th>\n",
              "      <th>Fare</th>\n",
              "      <th>Embarked</th>\n",
              "      <th>LastName</th>\n",
              "      <th>Train</th>\n",
              "      <th>FamilySurvived</th>\n",
              "      <th>FamilyDied</th>\n",
              "      <th>Size_Family</th>\n",
              "      <th>Title</th>\n",
              "      <th>dummy_variable_0</th>\n",
              "      <th>dummy_variable_1</th>\n",
              "      <th>dummy_variable_2</th>\n",
              "    </tr>\n",
              "  </thead>\n",
              "  <tbody>\n",
              "    <tr>\n",
              "      <th>0</th>\n",
              "      <td>1</td>\n",
              "      <td>0</td>\n",
              "      <td>2</td>\n",
              "      <td>Braund, Mr. Owen Harris</td>\n",
              "      <td>male</td>\n",
              "      <td>-0.607611</td>\n",
              "      <td>0.686268</td>\n",
              "      <td>-0.40491</td>\n",
              "      <td>A/5 21171</td>\n",
              "      <td>-0.779352</td>\n",
              "      <td>S</td>\n",
              "      <td>Braund</td>\n",
              "      <td>1</td>\n",
              "      <td>0</td>\n",
              "      <td>1</td>\n",
              "      <td>2</td>\n",
              "      <td>Mr</td>\n",
              "      <td>1.0</td>\n",
              "      <td>0.0</td>\n",
              "      <td>1.0</td>\n",
              "    </tr>\n",
              "    <tr>\n",
              "      <th>1</th>\n",
              "      <td>3</td>\n",
              "      <td>1</td>\n",
              "      <td>2</td>\n",
              "      <td>Heikkinen, Miss. Laina</td>\n",
              "      <td>female</td>\n",
              "      <td>-0.207827</td>\n",
              "      <td>-0.484137</td>\n",
              "      <td>-0.40491</td>\n",
              "      <td>STON/O2. 3101282</td>\n",
              "      <td>-0.668797</td>\n",
              "      <td>S</td>\n",
              "      <td>Heikkinen</td>\n",
              "      <td>1</td>\n",
              "      <td>0</td>\n",
              "      <td>0</td>\n",
              "      <td>1</td>\n",
              "      <td>Miss</td>\n",
              "      <td>0.0</td>\n",
              "      <td>0.0</td>\n",
              "      <td>1.0</td>\n",
              "    </tr>\n",
              "    <tr>\n",
              "      <th>2</th>\n",
              "      <td>4</td>\n",
              "      <td>1</td>\n",
              "      <td>0</td>\n",
              "      <td>Futrelle, Mrs. Jacques Heath (Lily May Peel)</td>\n",
              "      <td>female</td>\n",
              "      <td>0.691688</td>\n",
              "      <td>0.686268</td>\n",
              "      <td>-0.40491</td>\n",
              "      <td>113803</td>\n",
              "      <td>1.864379</td>\n",
              "      <td>S</td>\n",
              "      <td>Futrelle</td>\n",
              "      <td>1</td>\n",
              "      <td>0</td>\n",
              "      <td>1</td>\n",
              "      <td>2</td>\n",
              "      <td>Mrs</td>\n",
              "      <td>0.0</td>\n",
              "      <td>0.0</td>\n",
              "      <td>1.0</td>\n",
              "    </tr>\n",
              "    <tr>\n",
              "      <th>3</th>\n",
              "      <td>5</td>\n",
              "      <td>0</td>\n",
              "      <td>2</td>\n",
              "      <td>Allen, Mr. William Henry</td>\n",
              "      <td>male</td>\n",
              "      <td>0.691688</td>\n",
              "      <td>-0.484137</td>\n",
              "      <td>-0.40491</td>\n",
              "      <td>373450</td>\n",
              "      <td>-0.649245</td>\n",
              "      <td>S</td>\n",
              "      <td>Allen</td>\n",
              "      <td>1</td>\n",
              "      <td>0</td>\n",
              "      <td>0</td>\n",
              "      <td>1</td>\n",
              "      <td>Mr</td>\n",
              "      <td>1.0</td>\n",
              "      <td>0.0</td>\n",
              "      <td>1.0</td>\n",
              "    </tr>\n",
              "    <tr>\n",
              "      <th>4</th>\n",
              "      <td>6</td>\n",
              "      <td>0</td>\n",
              "      <td>2</td>\n",
              "      <td>Moran, Mr. James</td>\n",
              "      <td>male</td>\n",
              "      <td>-0.007934</td>\n",
              "      <td>-0.484137</td>\n",
              "      <td>-0.40491</td>\n",
              "      <td>330877</td>\n",
              "      <td>-0.587211</td>\n",
              "      <td>Q</td>\n",
              "      <td>Moran</td>\n",
              "      <td>1</td>\n",
              "      <td>1</td>\n",
              "      <td>1</td>\n",
              "      <td>1</td>\n",
              "      <td>Mr</td>\n",
              "      <td>1.0</td>\n",
              "      <td>1.0</td>\n",
              "      <td>0.0</td>\n",
              "    </tr>\n",
              "  </tbody>\n",
              "</table>\n",
              "</div>"
            ],
            "text/plain": [
              "   PassengerId  Survived  ...  dummy_variable_1 dummy_variable_2\n",
              "0            1         0  ...               0.0              1.0\n",
              "1            3         1  ...               0.0              1.0\n",
              "2            4         1  ...               0.0              1.0\n",
              "3            5         0  ...               0.0              1.0\n",
              "4            6         0  ...               1.0              0.0\n",
              "\n",
              "[5 rows x 20 columns]"
            ]
          },
          "metadata": {
            "tags": []
          },
          "execution_count": 113
        }
      ]
    },
    {
      "cell_type": "code",
      "metadata": {
        "id": "UX2V7r6vzBYi",
        "colab_type": "code",
        "colab": {
          "base_uri": "https://localhost:8080/",
          "height": 428
        },
        "outputId": "a42aa7bc-d659-46c2-87a8-2b5fde5e26e2"
      },
      "source": [
        "test.head()"
      ],
      "execution_count": 114,
      "outputs": [
        {
          "output_type": "execute_result",
          "data": {
            "text/html": [
              "<div>\n",
              "<style scoped>\n",
              "    .dataframe tbody tr th:only-of-type {\n",
              "        vertical-align: middle;\n",
              "    }\n",
              "\n",
              "    .dataframe tbody tr th {\n",
              "        vertical-align: top;\n",
              "    }\n",
              "\n",
              "    .dataframe thead th {\n",
              "        text-align: right;\n",
              "    }\n",
              "</style>\n",
              "<table border=\"1\" class=\"dataframe\">\n",
              "  <thead>\n",
              "    <tr style=\"text-align: right;\">\n",
              "      <th></th>\n",
              "      <th>PassengerId</th>\n",
              "      <th>Survived</th>\n",
              "      <th>Pclass</th>\n",
              "      <th>Name</th>\n",
              "      <th>Sex</th>\n",
              "      <th>Age</th>\n",
              "      <th>SibSp</th>\n",
              "      <th>Parch</th>\n",
              "      <th>Ticket</th>\n",
              "      <th>Fare</th>\n",
              "      <th>Embarked</th>\n",
              "      <th>LastName</th>\n",
              "      <th>Train</th>\n",
              "      <th>FamilySurvived</th>\n",
              "      <th>FamilyDied</th>\n",
              "      <th>Size_Family</th>\n",
              "      <th>Title</th>\n",
              "      <th>dummy_variable_0</th>\n",
              "      <th>dummy_variable_1</th>\n",
              "      <th>dummy_variable_2</th>\n",
              "    </tr>\n",
              "  </thead>\n",
              "  <tbody>\n",
              "    <tr>\n",
              "      <th>718</th>\n",
              "      <td>892</td>\n",
              "      <td>-1</td>\n",
              "      <td>3</td>\n",
              "      <td>Kelly, Mr. James</td>\n",
              "      <td>male</td>\n",
              "      <td>0.641715</td>\n",
              "      <td>-0.484137</td>\n",
              "      <td>-0.404910</td>\n",
              "      <td>330911</td>\n",
              "      <td>-0.683968</td>\n",
              "      <td>Q</td>\n",
              "      <td>Kelly</td>\n",
              "      <td>0</td>\n",
              "      <td>3</td>\n",
              "      <td>1</td>\n",
              "      <td>1</td>\n",
              "      <td>Mr</td>\n",
              "      <td>1.0</td>\n",
              "      <td>1.0</td>\n",
              "      <td>0.0</td>\n",
              "    </tr>\n",
              "    <tr>\n",
              "      <th>719</th>\n",
              "      <td>893</td>\n",
              "      <td>-1</td>\n",
              "      <td>3</td>\n",
              "      <td>Wilkes, Mrs. James (Ellen Needs)</td>\n",
              "      <td>female</td>\n",
              "      <td>1.891041</td>\n",
              "      <td>0.686268</td>\n",
              "      <td>-0.404910</td>\n",
              "      <td>363272</td>\n",
              "      <td>-0.822610</td>\n",
              "      <td>S</td>\n",
              "      <td>Wilkes</td>\n",
              "      <td>0</td>\n",
              "      <td>0</td>\n",
              "      <td>0</td>\n",
              "      <td>2</td>\n",
              "      <td>Mrs</td>\n",
              "      <td>0.0</td>\n",
              "      <td>0.0</td>\n",
              "      <td>1.0</td>\n",
              "    </tr>\n",
              "    <tr>\n",
              "      <th>720</th>\n",
              "      <td>894</td>\n",
              "      <td>-1</td>\n",
              "      <td>2</td>\n",
              "      <td>Myles, Mr. Thomas Francis</td>\n",
              "      <td>male</td>\n",
              "      <td>3.390233</td>\n",
              "      <td>-0.484137</td>\n",
              "      <td>-0.404910</td>\n",
              "      <td>240276</td>\n",
              "      <td>-0.415451</td>\n",
              "      <td>Q</td>\n",
              "      <td>Myles</td>\n",
              "      <td>0</td>\n",
              "      <td>0</td>\n",
              "      <td>0</td>\n",
              "      <td>1</td>\n",
              "      <td>Mr</td>\n",
              "      <td>1.0</td>\n",
              "      <td>1.0</td>\n",
              "      <td>0.0</td>\n",
              "    </tr>\n",
              "    <tr>\n",
              "      <th>721</th>\n",
              "      <td>895</td>\n",
              "      <td>-1</td>\n",
              "      <td>3</td>\n",
              "      <td>Wirz, Mr. Albert</td>\n",
              "      <td>male</td>\n",
              "      <td>-0.107881</td>\n",
              "      <td>-0.484137</td>\n",
              "      <td>-0.404910</td>\n",
              "      <td>315154</td>\n",
              "      <td>-0.557184</td>\n",
              "      <td>S</td>\n",
              "      <td>Wirz</td>\n",
              "      <td>0</td>\n",
              "      <td>0</td>\n",
              "      <td>0</td>\n",
              "      <td>1</td>\n",
              "      <td>Mr</td>\n",
              "      <td>1.0</td>\n",
              "      <td>0.0</td>\n",
              "      <td>1.0</td>\n",
              "    </tr>\n",
              "    <tr>\n",
              "      <th>722</th>\n",
              "      <td>896</td>\n",
              "      <td>-1</td>\n",
              "      <td>3</td>\n",
              "      <td>Hirvonen, Mrs. Alexander (Helga E Lindqvist)</td>\n",
              "      <td>female</td>\n",
              "      <td>-0.607611</td>\n",
              "      <td>0.686268</td>\n",
              "      <td>0.870202</td>\n",
              "      <td>3101298</td>\n",
              "      <td>-0.109345</td>\n",
              "      <td>S</td>\n",
              "      <td>Hirvonen</td>\n",
              "      <td>0</td>\n",
              "      <td>0</td>\n",
              "      <td>0</td>\n",
              "      <td>3</td>\n",
              "      <td>Mrs</td>\n",
              "      <td>0.0</td>\n",
              "      <td>0.0</td>\n",
              "      <td>1.0</td>\n",
              "    </tr>\n",
              "  </tbody>\n",
              "</table>\n",
              "</div>"
            ],
            "text/plain": [
              "     PassengerId  Survived  ...  dummy_variable_1 dummy_variable_2\n",
              "718          892        -1  ...               1.0              0.0\n",
              "719          893        -1  ...               0.0              1.0\n",
              "720          894        -1  ...               1.0              0.0\n",
              "721          895        -1  ...               0.0              1.0\n",
              "722          896        -1  ...               0.0              1.0\n",
              "\n",
              "[5 rows x 20 columns]"
            ]
          },
          "metadata": {
            "tags": []
          },
          "execution_count": 114
        }
      ]
    },
    {
      "cell_type": "markdown",
      "metadata": {
        "id": "MlsAvfUnnoYu",
        "colab_type": "text"
      },
      "source": [
        "# Modèle implémenté à la main"
      ]
    },
    {
      "cell_type": "markdown",
      "metadata": {
        "id": "nCYxKWa0nrgK",
        "colab_type": "text"
      },
      "source": [
        "Il s'agit ici plus d'un petit jeu, mais à la vue des statistiques effectuées au début, il nous serait probablement possible d'écrire un modèle \"à la main\" de type decision tree, en appliquant juste un règle de \"majorité\"."
      ]
    },
    {
      "cell_type": "markdown",
      "metadata": {
        "id": "BxUkDUOhoelo",
        "colab_type": "text"
      },
      "source": [
        "## Les questions\n",
        "\n",
        "On se propose donc d'élaborer une suite de questions, un peu comme Akinator, dans le but de prédire la surive (1) ou la mort (0) du passager :\n",
        "On va en même temps réfléchir au \"pire scénario\" pour établir une baseline, un pire résultat, qui nous servira de borne inférieur pour la suite.\n",
        "\n",
        "1. **Le passager était-il sur le Titanic ?** : Si oui, alors la majorité (62%) mourra. Si l'on suppose tout le monde mort, on a donc une précision de 62%.\n",
        "\n",
        "2. **Le passager était-il un homme ou une femme** : Si homme, la majorité meurt (81 %). Si femme, la majorité survit (74%). la probabilité d'être juste (Bayes, etc...) est alors de 79%.\n",
        "\n",
        "3. **Branche femme : La passagère était-elle en classe 1, 2 ou 3 ? (314 individus)** : plus de 90% de chances d'être correct dans les deux cas, on s'arrêtera donc là. (classe 3 est un 50/50).\n",
        "\n",
        "4. **Branche femme, classe 3, ou la passagère embarquait-elle ? (144 individus)** : C et Q, la majorité survivent donc on n ne change pas, S en revanche, 63% meurts. On donnera donc 0 (died) pour le chemin [Yes -> Female -> 3 -> S]. On atteint alors une probabilité d'être juste de 80%.\n",
        "\n",
        "5. **Branche femme, classe 3, embarqué à S (88 individus)** : Sur ces 88 individus, 55 sont morts, 33 ont survécus. On cherche donc, soit à trouver facilement les 33 survivants, ou bien un sous-groupe de ces 88 individus qu'on peut facilement changer de morts à survivants. Une possibilité concerne ceux ayant acheté un ticket entre 0\\$ et 8\\$ pour qui une majorité de ce sous-groupe a survécu. C'est une faible contribution qui amène la probabilité d'avoir raison à 8#%, mais pas forcément nécéssaire.\n",
        "\n",
        "6. **Branche homme (544 individus)** : On va s'arrêter là, en supposant tous les hommes morts. En regardant rapidement on gagne très peu d'information à choisir le lieu d'embarquement ou la classe, et 81% est déjà assez raisonnable. La seule remarque qu'on fera, c'est que les hommes ayant le titre de \"Master\" ont une survie majoritaire (52%).\n",
        "\n",
        "On a donc réussi à, selon Bayes, obtenir une probabilité d'être juste de 82% avec l'arbre ci dessus."
      ]
    },
    {
      "cell_type": "markdown",
      "metadata": {
        "id": "UINV0LdT2aDi",
        "colab_type": "text"
      },
      "source": [
        "## Le modèle"
      ]
    },
    {
      "cell_type": "markdown",
      "metadata": {
        "id": "CndAblqsDEVP",
        "colab_type": "text"
      },
      "source": [
        "On code donc le modèle décrit ci-dessus, avec le jeu de données pré-conversion (brutes), la conversion étant faite pour améliorer le score d'un point de vue de Machine Learning (et ne correspondant pas dutout avec nos condition."
      ]
    },
    {
      "cell_type": "code",
      "metadata": {
        "id": "4PaZsq8h0vbE",
        "colab_type": "code",
        "colab": {
          "base_uri": "https://localhost:8080/",
          "height": 204
        },
        "outputId": "0f5ea70a-2899-4d7e-ba62-3c469ead57bd"
      },
      "source": [
        "def HandMade_Tree(df):\n",
        "    \n",
        "    Model = pd.DataFrame(data = {'Predict':[]})\n",
        "    male_title = ['Master']\n",
        "\n",
        "    for index, row in df.iterrows():\n",
        "\n",
        "        # Q1\n",
        "        Model.loc[index, 'Predict'] = 0\n",
        "\n",
        "        # Q2\n",
        "        if (df.loc[index, 'Sex'] == 'female'):\n",
        "            Model.loc[index, 'Predict'] = 1\n",
        "\n",
        "        # Q5      \n",
        "        if ((df.loc[index, 'Sex'] == 'female') & (df.loc[index, 'Pclass'] == 3) & (df.loc[index, 'Embarked'] == 'S')  & (df.loc[index, 'Fare'] > 8)):\n",
        "            Model.loc[index, 'Predict'] = 0\n",
        "\n",
        "        # Q6\n",
        "        if ((df.loc[index, 'Sex'] == 'male') & (df.loc[index, 'Title'] in male_title)):\n",
        "            Model.loc[index, 'Predict'] = 1\n",
        "\n",
        "    return Model\n",
        "\n",
        "Tree_Predict = HandMade_Tree(data1)\n",
        "print('Handmade tree model Accuracy/Precision : {:.2f}%\\n'.format(metrics.accuracy_score(data1['Survived'], Tree_Predict)*100))\n",
        "print(metrics.classification_report(data1['Survived'], Tree_Predict))"
      ],
      "execution_count": 115,
      "outputs": [
        {
          "output_type": "stream",
          "text": [
            "Handmade tree model Accuracy/Precision : 81.48%\n",
            "\n",
            "              precision    recall  f1-score   support\n",
            "\n",
            "           0       0.83      0.91      0.87       478\n",
            "           1       0.78      0.62      0.69       240\n",
            "\n",
            "    accuracy                           0.81       718\n",
            "   macro avg       0.80      0.77      0.78       718\n",
            "weighted avg       0.81      0.81      0.81       718\n",
            "\n"
          ],
          "name": "stdout"
        }
      ]
    },
    {
      "cell_type": "code",
      "metadata": {
        "id": "A8ueosTp6lpO",
        "colab_type": "code",
        "colab": {}
      },
      "source": [
        "predict_handmade = HandMade_Tree(data2)['Predict'].to_numpy().astype(int)"
      ],
      "execution_count": 116,
      "outputs": []
    },
    {
      "cell_type": "code",
      "metadata": {
        "id": "AzvERDIa8eDL",
        "colab_type": "code",
        "colab": {
          "base_uri": "https://localhost:8080/",
          "height": 68
        },
        "outputId": "2e14393a-8842-4ca5-939a-7fe2f666e30d"
      },
      "source": [
        "submission_handmade = pd.DataFrame()\n",
        "submission_handmade['PassengerId'] = test_data['PassengerId']\n",
        "submission_handmade['Survived'] = predict_handmade\n",
        "submission_handmade['Survived'].value_counts()"
      ],
      "execution_count": 117,
      "outputs": [
        {
          "output_type": "execute_result",
          "data": {
            "text/plain": [
              "0    277\n",
              "1    141\n",
              "Name: Survived, dtype: int64"
            ]
          },
          "metadata": {
            "tags": []
          },
          "execution_count": 117
        }
      ]
    },
    {
      "cell_type": "code",
      "metadata": {
        "id": "yet0tNbt8hVj",
        "colab_type": "code",
        "colab": {}
      },
      "source": [
        "submission_handmade.to_csv('submission_handmade.csv', index = False, header = True)"
      ],
      "execution_count": 118,
      "outputs": []
    },
    {
      "cell_type": "markdown",
      "metadata": {
        "id": "YdXWPHH96WHn",
        "colab_type": "text"
      },
      "source": [
        "On a donc un score de 81.48% Sur ce modèle \"fait main\" (sur la base d'entrainement). On va le soumettre à Kaggle pour avoir une idée du score obtenu avec ce simple codage. On obtient un score de 0.76315 de réussite, pas si mal donc (TOP 78%), mais loin du haut du panier."
      ]
    },
    {
      "cell_type": "markdown",
      "metadata": {
        "id": "RpgGLbdxzEeQ",
        "colab_type": "text"
      },
      "source": [
        "# Sélection de Variables\n",
        "\n",
        "On a effectué un certain nombre de manipulations sur les variables dans la partie précédente, notamment au niveau de la création et du OHE, on va donc selectionner les varialbes qu'on juge pertinente pour notre modèle. Cette partie peut être modifiée pour observer l'impact sur la performance du choix de telle ou telle variable."
      ]
    },
    {
      "cell_type": "code",
      "metadata": {
        "id": "mT0lj85mzBW2",
        "colab_type": "code",
        "colab": {
          "base_uri": "https://localhost:8080/",
          "height": 323
        },
        "outputId": "f037ebf7-ce16-45ce-9fdb-a3f574e9b9e7"
      },
      "source": [
        "print('Train cols :\\n',train.columns)\n",
        "print('\\n Train shape : ', train.shape)\n",
        "print('\\n')\n",
        "print('Test cols :\\n',test.columns)\n",
        "print('\\n Test shape : ', test.shape)"
      ],
      "execution_count": 119,
      "outputs": [
        {
          "output_type": "stream",
          "text": [
            "Train cols :\n",
            " Index(['PassengerId', 'Survived', 'Pclass', 'Name', 'Sex', 'Age', 'SibSp',\n",
            "       'Parch', 'Ticket', 'Fare', 'Embarked', 'LastName', 'Train',\n",
            "       'FamilySurvived', 'FamilyDied', 'Size_Family', 'Title',\n",
            "       'dummy_variable_0', 'dummy_variable_1', 'dummy_variable_2'],\n",
            "      dtype='object')\n",
            "\n",
            " Train shape :  (718, 20)\n",
            "\n",
            "\n",
            "Test cols :\n",
            " Index(['PassengerId', 'Survived', 'Pclass', 'Name', 'Sex', 'Age', 'SibSp',\n",
            "       'Parch', 'Ticket', 'Fare', 'Embarked', 'LastName', 'Train',\n",
            "       'FamilySurvived', 'FamilyDied', 'Size_Family', 'Title',\n",
            "       'dummy_variable_0', 'dummy_variable_1', 'dummy_variable_2'],\n",
            "      dtype='object')\n",
            "\n",
            " Test shape :  (418, 20)\n"
          ],
          "name": "stdout"
        }
      ]
    },
    {
      "cell_type": "code",
      "metadata": {
        "id": "hQ4AucKbzBU-",
        "colab_type": "code",
        "colab": {}
      },
      "source": [
        "#train.head()"
      ],
      "execution_count": 120,
      "outputs": []
    },
    {
      "cell_type": "code",
      "metadata": {
        "id": "I47DVPHNzBM1",
        "colab_type": "code",
        "colab": {
          "base_uri": "https://localhost:8080/",
          "height": 102
        },
        "outputId": "b13054fa-9f5b-46dd-9de7-c96b93e51c9a"
      },
      "source": [
        "train.drop(['PassengerId', 'Name', 'Sex', 'Ticket', 'Embarked', 'LastName', 'Train', 'Title'], axis = 1, inplace = True)\n",
        "test.drop(['PassengerId', 'Name', 'Sex', 'Ticket', 'Embarked', 'LastName', 'Train', 'Title'], axis = 1, inplace = True)"
      ],
      "execution_count": 121,
      "outputs": [
        {
          "output_type": "stream",
          "text": [
            "/usr/local/lib/python3.6/dist-packages/pandas/core/frame.py:3997: SettingWithCopyWarning: \n",
            "A value is trying to be set on a copy of a slice from a DataFrame\n",
            "\n",
            "See the caveats in the documentation: https://pandas.pydata.org/pandas-docs/stable/user_guide/indexing.html#returning-a-view-versus-a-copy\n",
            "  errors=errors,\n"
          ],
          "name": "stderr"
        }
      ]
    },
    {
      "cell_type": "code",
      "metadata": {
        "id": "v-eTeVUhzM8f",
        "colab_type": "code",
        "colab": {
          "base_uri": "https://localhost:8080/",
          "height": 289
        },
        "outputId": "2c7c2a93-3122-409d-d717-540d3aaa1c1d"
      },
      "source": [
        "print('Train columns :\\n',train.columns)\n",
        "print('\\n Train shape : ', train.shape)\n",
        "print('\\n')\n",
        "print('Test columns :\\n',test.columns)\n",
        "print('\\n Test shape : ', test.shape)"
      ],
      "execution_count": 122,
      "outputs": [
        {
          "output_type": "stream",
          "text": [
            "Train columns :\n",
            " Index(['Survived', 'Pclass', 'Age', 'SibSp', 'Parch', 'Fare', 'FamilySurvived',\n",
            "       'FamilyDied', 'Size_Family', 'dummy_variable_0', 'dummy_variable_1',\n",
            "       'dummy_variable_2'],\n",
            "      dtype='object')\n",
            "\n",
            " Train shape :  (718, 12)\n",
            "\n",
            "\n",
            "Test columns :\n",
            " Index(['Survived', 'Pclass', 'Age', 'SibSp', 'Parch', 'Fare', 'FamilySurvived',\n",
            "       'FamilyDied', 'Size_Family', 'dummy_variable_0', 'dummy_variable_1',\n",
            "       'dummy_variable_2'],\n",
            "      dtype='object')\n",
            "\n",
            " Test shape :  (418, 12)\n"
          ],
          "name": "stdout"
        }
      ]
    },
    {
      "cell_type": "code",
      "metadata": {
        "id": "uJ4mT5I8zOta",
        "colab_type": "code",
        "colab": {}
      },
      "source": [
        "X_train = train.iloc[:, 1:].values\n",
        "y_train = train.iloc[:, 0].values\n",
        "\n",
        "X_test = test.iloc[:, 1:].values\n",
        "y_test = test.iloc[:, 0].values\n",
        "\n",
        "#print('X_train :\\n', X_train[0:5])\n",
        "#print('y_train :\\n', y_train[0:5])"
      ],
      "execution_count": 123,
      "outputs": []
    },
    {
      "cell_type": "markdown",
      "metadata": {
        "id": "lwiot1QLzSlY",
        "colab_type": "text"
      },
      "source": [
        "# Modèles de Prédiction\n",
        "\n",
        "Plusieurs modèles ont été testés et cette partie du notebook est probablement celle qui a subi le plus de modification. On a pour l'instant laissé le K-NN qui semble être le plus performant, ainsi qu'un SVC et un MLP (à peine tuné).\n",
        "\n",
        "Cette partie sera ré-écrite pour revenir sur la méthode d'obtention du meilleur résultats, avec des cross-validations ainsi qu'une méthode comparative de modèles plus efficace."
      ]
    },
    {
      "cell_type": "code",
      "metadata": {
        "id": "HXaM7ukdzQ3J",
        "colab_type": "code",
        "colab": {
          "base_uri": "https://localhost:8080/",
          "height": 153
        },
        "outputId": "8d200f0c-6a1a-428e-e803-7679c863c65f"
      },
      "source": [
        "clf = KNeighborsClassifier(leaf_size = 1, metric = 'minkowski', n_neighbors = 12, p = 1, weights = 'distance')\n",
        "accuracies = cross_val_score(clf, X_train, y_train, cv = 20, verbose = 1)\n",
        "print('Accuracies : ', accuracies)\n",
        "print('AVG Accuracies : ', accuracies.mean())\n",
        "print('STD/variance:',accuracies.std())"
      ],
      "execution_count": 124,
      "outputs": [
        {
          "output_type": "stream",
          "text": [
            "Accuracies :  [0.80555556 0.88888889 0.80555556 0.69444444 0.80555556 0.75\n",
            " 0.66666667 0.86111111 0.94444444 0.80555556 0.80555556 0.86111111\n",
            " 0.83333333 0.88888889 0.75       0.80555556 0.86111111 0.75\n",
            " 0.8        0.88571429]\n",
            "AVG Accuracies :  0.8134523809523809\n",
            "STD/variance: 0.06682590345922641\n"
          ],
          "name": "stdout"
        },
        {
          "output_type": "stream",
          "text": [
            "[Parallel(n_jobs=1)]: Using backend SequentialBackend with 1 concurrent workers.\n",
            "[Parallel(n_jobs=1)]: Done  20 out of  20 | elapsed:    0.1s finished\n"
          ],
          "name": "stderr"
        }
      ]
    },
    {
      "cell_type": "code",
      "metadata": {
        "id": "pJS1EOSpoXfp",
        "colab_type": "code",
        "colab": {
          "base_uri": "https://localhost:8080/",
          "height": 187
        },
        "outputId": "229b5f37-ebf2-4d95-aaec-a44e9c969eda"
      },
      "source": [
        "other_clf = svm.SVC(kernel= \"sigmoid\", decision_function_shape= \"ovr\")\n",
        "accuracies_other = cross_val_score(other_clf, X_train, y_train, cv = 32, verbose = 1)\n",
        "print('Accuracies : ', accuracies_other)\n",
        "print('AVG Accuracies : ', accuracies_other.mean())\n",
        "print('STD/variance:',accuracies_other.std())"
      ],
      "execution_count": 125,
      "outputs": [
        {
          "output_type": "stream",
          "text": [
            "[Parallel(n_jobs=1)]: Using backend SequentialBackend with 1 concurrent workers.\n"
          ],
          "name": "stderr"
        },
        {
          "output_type": "stream",
          "text": [
            "Accuracies :  [0.60869565 0.65217391 0.7826087  0.7826087  0.65217391 0.65217391\n",
            " 0.60869565 0.7826087  0.69565217 0.43478261 0.73913043 0.69565217\n",
            " 0.69565217 0.82608696 0.5        0.63636364 0.63636364 0.72727273\n",
            " 0.54545455 0.63636364 0.63636364 0.77272727 0.68181818 0.63636364\n",
            " 0.59090909 0.68181818 0.77272727 0.63636364 0.77272727 0.5\n",
            " 0.77272727 0.68181818]\n",
            "AVG Accuracies :  0.6695899209486166\n",
            "STD/variance: 0.09103847434457323\n"
          ],
          "name": "stdout"
        },
        {
          "output_type": "stream",
          "text": [
            "[Parallel(n_jobs=1)]: Done  32 out of  32 | elapsed:    0.5s finished\n"
          ],
          "name": "stderr"
        }
      ]
    },
    {
      "cell_type": "code",
      "metadata": {
        "id": "OoK9VZrZrDVZ",
        "colab_type": "code",
        "colab": {
          "base_uri": "https://localhost:8080/",
          "height": 68
        },
        "outputId": "4f59dc6e-7bfd-409c-c137-90b966ee96ab"
      },
      "source": [
        "other_clf_2 = MLPClassifier(random_state = 1, max_iter= 1000, hidden_layer_sizes= (30, 30, 30 ,30, 30))\n",
        "accuracies_other_2 = cross_val_score(other_clf_2, X_train, y_train, cv = 5)\n",
        "print('Accuracies : ', accuracies_other_2)\n",
        "print('AVG Accuracies : ', accuracies_other_2.mean())\n",
        "print('STD/variance:',accuracies_other_2.std())"
      ],
      "execution_count": 126,
      "outputs": [
        {
          "output_type": "stream",
          "text": [
            "Accuracies :  [0.75694444 0.77777778 0.79861111 0.8041958  0.86013986]\n",
            "AVG Accuracies :  0.7995337995337995\n",
            "STD/variance: 0.034591495698090516\n"
          ],
          "name": "stdout"
        }
      ]
    },
    {
      "cell_type": "markdown",
      "metadata": {
        "id": "z2uHqDmZZh-_",
        "colab_type": "text"
      },
      "source": [
        "## Résultats et \"Submission\""
      ]
    },
    {
      "cell_type": "code",
      "metadata": {
        "id": "cAiXolYAzaJg",
        "colab_type": "code",
        "colab": {
          "base_uri": "https://localhost:8080/",
          "height": 68
        },
        "outputId": "66261a93-5835-4b44-e64b-6f40d9d799d2"
      },
      "source": [
        "clf.fit(X_train, y_train)\n",
        "y_pred = clf.predict(X_test)\n",
        "y_pred = y_pred.astype('int64')\n",
        "\n",
        "submission = pd.DataFrame()\n",
        "submission['PassengerId'] = test_data['PassengerId']\n",
        "submission['Survived'] = y_pred\n",
        "submission['Survived'].value_counts()"
      ],
      "execution_count": 61,
      "outputs": [
        {
          "output_type": "execute_result",
          "data": {
            "text/plain": [
              "0    286\n",
              "1    132\n",
              "Name: Survived, dtype: int64"
            ]
          },
          "metadata": {
            "tags": []
          },
          "execution_count": 61
        }
      ]
    },
    {
      "cell_type": "code",
      "metadata": {
        "id": "OdMmjRU3sqIC",
        "colab_type": "code",
        "colab": {}
      },
      "source": [
        "#y_pred"
      ],
      "execution_count": 62,
      "outputs": []
    },
    {
      "cell_type": "code",
      "metadata": {
        "id": "aQb0aXCGaW0V",
        "colab_type": "code",
        "colab": {}
      },
      "source": [
        "submission.to_csv('submission_KNN.csv', index = False, header = True)"
      ],
      "execution_count": 63,
      "outputs": []
    },
    {
      "cell_type": "markdown",
      "metadata": {
        "id": "cgg9e7TRZp08",
        "colab_type": "text"
      },
      "source": [
        "Cette soumission est la meilleure, elle nous donne un score de presque 80% de prédiction sur Kagge (0.79904) donnant un classement de de TOP 7% (au 21 aout 2020)"
      ]
    }
  ]
}